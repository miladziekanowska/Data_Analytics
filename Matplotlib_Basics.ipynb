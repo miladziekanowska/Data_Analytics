{
  "nbformat": 4,
  "nbformat_minor": 0,
  "metadata": {
    "colab": {
      "provenance": [],
      "authorship_tag": "ABX9TyMhfTlT3X+LSxQQPVhOYyTO",
      "include_colab_link": true
    },
    "kernelspec": {
      "name": "python3",
      "display_name": "Python 3"
    },
    "language_info": {
      "name": "python"
    }
  },
  "cells": [
    {
      "cell_type": "markdown",
      "metadata": {
        "id": "view-in-github",
        "colab_type": "text"
      },
      "source": [
        "<a href=\"https://colab.research.google.com/github/miladziekanowska/Data_Analytics/blob/main/Matplotlib_Basics.ipynb\" target=\"_parent\"><img src=\"https://colab.research.google.com/assets/colab-badge.svg\" alt=\"Open In Colab\"/></a>"
      ]
    },
    {
      "cell_type": "markdown",
      "source": [
        "# Matplotlib and data visualization\n",
        "Data visualization is one of the most important components in data analytics and is a great tool for data scientists. It allows us to accually see the data in an easier, more understandable format than blankly starring at the data. Ranges and parameters are useful, but they do not give us the information about all the data, while if we visualize it, we can sometimes see the patterns in the data, and even spot the flaws, like outliers or NaN values. \n",
        "\n",
        "In Python we have quite a few liblaries dedicated to data visualization. In this notes, we will work on *Matplotlib*, which is the most popular and common one. It allows for creation of any desired chart or plot and it is relatively easy to use. While very useful, the biggest drawback for Matplotlib is that it might be hard to create complex visualization using just this liblary. We will frequently use it for analysis, but for final reports or visualizations for clients, other liblaries might provide better looking option. Still, Matplotlib is a great tool and many other visualization liblaries work similarely or even on top of it, therefore grasping a good understanding of the basics will come in handy.\n",
        "\n",
        "Other liblaries that I will be interested in exploring:\n",
        "- Seaborn (built on top of Matplotlib, has prettier visualization with less syntax, but also has narrower options);\n",
        "- Plotly (allows for interactive visualizations, also quite pretty);\n",
        "- Bokeh (also allows for interactive visualizations, has similar syntax to Matplotlib);\n",
        "- Folium (is relatively easy and is solemnly dedicated to geospatial visualizations);\n",
        "- Panel (allows for creation of pretty plots and easy, interactive dashboards)"
      ],
      "metadata": {
        "id": "b1S5dqSPFfZd"
      }
    },
    {
      "cell_type": "code",
      "source": [
        "# let's import the liblaries\n",
        "import numpy as np\n",
        "import pandas as pd\n",
        "# import matplotlib as mlp \n",
        "import matplotlib.pyplot as plt"
      ],
      "metadata": {
        "id": "hlLRaCaHL-l3"
      },
      "execution_count": 1,
      "outputs": []
    },
    {
      "cell_type": "code",
      "source": [
        "# for these notes we will work with our trusty titanic dataset, as it has many different data\n",
        "titanic = pd.read_csv('titanic.csv', sep=',', encoding='utf-8')\n",
        "titanic"
      ],
      "metadata": {
        "id": "JJqqDOrzOF-7"
      },
      "execution_count": null,
      "outputs": []
    },
    {
      "cell_type": "markdown",
      "source": [
        "## My first graph"
      ],
      "metadata": {
        "id": "ggx0423ZOeGp"
      }
    }
  ]
}