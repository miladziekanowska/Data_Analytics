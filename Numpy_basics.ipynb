{
  "nbformat": 4,
  "nbformat_minor": 0,
  "metadata": {
    "colab": {
      "provenance": [],
      "authorship_tag": "ABX9TyN6yAzkSjRN3xETSPbM3HyJ",
      "include_colab_link": true
    },
    "kernelspec": {
      "name": "python3",
      "display_name": "Python 3"
    },
    "language_info": {
      "name": "python"
    }
  },
  "cells": [
    {
      "cell_type": "markdown",
      "metadata": {
        "id": "view-in-github",
        "colab_type": "text"
      },
      "source": [
        "<a href=\"https://colab.research.google.com/github/miladziekanowska/Data_Analytics/blob/main/Numpy_basics.ipynb\" target=\"_parent\"><img src=\"https://colab.research.google.com/assets/colab-badge.svg\" alt=\"Open In Colab\"/></a>"
      ]
    },
    {
      "cell_type": "markdown",
      "source": [
        "#Getting familiar with Numpy\n",
        "This notebook contains the basic informations about Numpy library.\n",
        "Numpy stands for Numerical Python and is one of the essential libraries in Python, however it's not usually used on it's own. Many other libraries are build on top of Numpy (Pandas, Tensorflow), so knowing the basic computing with Numpy will come in handy along the way.\n",
        "\n",
        "Numpy is very useful, as it allows to process great amount of data without using as much memory as the lists.\n",
        "\n",
        "### IMPORTANT\n",
        "Whenever comming back to an already existing project after closing it, it is nessessary to run all the code lines, because without that we will keep getting errors.\n",
        "\n",
        "[Numpy official documentation site](https://numpy.org/doc/stable/user/absolute_beginners.html)\n",
        "\n",
        "Let's begin with all the nessesary imports:"
      ],
      "metadata": {
        "id": "Rp6d6sSrKwT9"
      }
    },
    {
      "cell_type": "code",
      "source": [
        "import numpy as np"
      ],
      "metadata": {
        "id": "DzyuLucEOb-w"
      },
      "execution_count": 8,
      "outputs": []
    },
    {
      "cell_type": "markdown",
      "source": [
        "The basic data structure specific to Numpy is a Numpy array. The array can be presented in many different dimentions. \n",
        "Depending on the amount of dimentions, we can distinguish:\n",
        "\n",
        "- Scalar - 0D\n",
        "- Vector - 1D\n",
        "- Matrix - 2D\n",
        "- Tensor - 3D+"
      ],
      "metadata": {
        "id": "v3NUm8cOOfNQ"
      }
    },
    {
      "cell_type": "code",
      "source": [
        "rev = np.arange(1,10)"
      ],
      "metadata": {
        "id": "ctA_kSi-Y4j4"
      },
      "execution_count": 9,
      "outputs": []
    },
    {
      "cell_type": "code",
      "source": [
        "row = np.array([3, 4, 5, 6])\n",
        "column = np.array([[3], [4], [5], [6]])"
      ],
      "metadata": {
        "id": "d4CRy_HqPwft"
      },
      "execution_count": 10,
      "outputs": []
    },
    {
      "cell_type": "markdown",
      "source": [
        "Using numpy, we will most likely be working on matrices. Two-dimentional arrays are still easy to digest for human eye and sence of space, while when we get to tensors, it requires much more attention and practice to get good. More on that later, as tensors are common for Machine Learning.\n",
        "\n",
        "The matrix is placed within square brackets, which makes them a bit similar in their look to nested lists. The positioning and slicing also works the same, besides one slicing method available only for numpy."
      ],
      "metadata": {
        "id": "sv8rPISiRSRa"
      }
    },
    {
      "cell_type": "code",
      "source": [
        "array_2x3 = np.array([[1, 2, 3], [4, 5, 6]])\n",
        "array_3x2 = np.array([[1, 2], [3, 4], [5, 6]])"
      ],
      "metadata": {
        "id": "JO9uP69fR_oF"
      },
      "execution_count": 11,
      "outputs": []
    },
    {
      "cell_type": "markdown",
      "source": [
        "Besides typing in the arrays, we can use some Numpy methods, which will generate the arrays.\n",
        "\n",
        "**np.arange(x, y, z)** -> creates a one dimentional array from x to y with z steps (by defauls z is 1)  \n",
        "**np.linspace(x, y, z)** -> creates a one dimentional array from x to y, where there are z values  \n",
        "**np.ones(n)** -> creates an array with n-shape, filled only with 1  \n",
        "**np.zeros(n)** -> creates an array with n-shape, filled only with 1"
      ],
      "metadata": {
        "id": "ujB44Dr4SjbV"
      }
    },
    {
      "cell_type": "code",
      "source": [
        "aranged = np.arange(1, 10, 2)\n",
        "linspaced = np.linspace(1, 10, 5)\n",
        "\n",
        "list1 = [1, 4, 6]\n",
        "from_list = np.array(list1)\n",
        "from_list"
      ],
      "metadata": {
        "id": "kAyri5xASvIn",
        "colab": {
          "base_uri": "https://localhost:8080/"
        },
        "outputId": "b5d703cf-c144-4552-da47-aa5427f9e89e"
      },
      "execution_count": 13,
      "outputs": [
        {
          "output_type": "execute_result",
          "data": {
            "text/plain": [
              "array([1, 4, 6])"
            ]
          },
          "metadata": {},
          "execution_count": 13
        }
      ]
    },
    {
      "cell_type": "code",
      "source": [
        "ones = np.ones([3,3])\n",
        "ones"
      ],
      "metadata": {
        "colab": {
          "base_uri": "https://localhost:8080/"
        },
        "id": "ShF8_zriKgcq",
        "outputId": "a5363c63-b5ee-4eb9-d9e5-fc126199c7cd"
      },
      "execution_count": 15,
      "outputs": [
        {
          "output_type": "execute_result",
          "data": {
            "text/plain": [
              "array([[1., 1., 1.],\n",
              "       [1., 1., 1.],\n",
              "       [1., 1., 1.]])"
            ]
          },
          "metadata": {},
          "execution_count": 15
        }
      ]
    },
    {
      "cell_type": "markdown",
      "source": [
        "## Positioning and slicing np.arrays"
      ],
      "metadata": {
        "id": "yET1wIurKm_O"
      }
    },
    {
      "cell_type": "markdown",
      "source": [],
      "metadata": {
        "id": "JM9z1tDTLcvg"
      }
    }
  ]
}