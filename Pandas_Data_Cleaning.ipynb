{
  "nbformat": 4,
  "nbformat_minor": 0,
  "metadata": {
    "colab": {
      "provenance": [],
      "authorship_tag": "ABX9TyNbic3ahBMqnwG/vk6N3QM+",
      "include_colab_link": true
    },
    "kernelspec": {
      "name": "python3",
      "display_name": "Python 3"
    },
    "language_info": {
      "name": "python"
    }
  },
  "cells": [
    {
      "cell_type": "markdown",
      "metadata": {
        "id": "view-in-github",
        "colab_type": "text"
      },
      "source": [
        "<a href=\"https://colab.research.google.com/github/miladziekanowska/Data_Analytics/blob/main/Pandas_Data_Cleaning.ipynb\" target=\"_parent\"><img src=\"https://colab.research.google.com/assets/colab-badge.svg\" alt=\"Open In Colab\"/></a>"
      ]
    },
    {
      "cell_type": "markdown",
      "source": [
        "# Cleaning data in Pandas DataFrame\n",
        "Data cleaning is one of the tedious parts of work as a Data Analyst or Data Scientist, but it is one of the most important part of the the field - well prepared data can give us more insight and therefore allow us to make better informed decisions and train our models properly.\n",
        "\n",
        "This notebook takes up quite a lot of examples of nessesary data cleaning with a few solutions, with the problems listed here:\n",
        "1. Correcting the data type to our needs\n",
        "2. Splitting the date and string columns\n",
        "3. Handling missing data and NaN valeus\n",
        "4. Detecting and dealing with outliers\n",
        "5. Data Standarization\n",
        "6. Data Discreditation\n",
        "7. Data Normalization\n",
        "8. Log Normalize\n",
        "9. One-hot encoding\n",
        "10. Data scaling\n",
        "11. Profiling\n",
        "\n",
        "\n",
        "Okay, let's get to work with the imports and first DataFrame."
      ],
      "metadata": {
        "id": "qYXxJRY1YDAo"
      }
    },
    {
      "cell_type": "code",
      "source": [
        "import numpy as np # linear algebra\n",
        "import pandas as pd # data processing, CSV file I/O (e.g. pd.read_csv)\n",
        "import matplotlib.pyplot as plt # for data visualization\n",
        "import seaborn as sns # for statistical data visualization\n",
        "import pylab \n",
        "import scipy.stats as stats\n",
        "import datetime"
      ],
      "metadata": {
        "id": "eRGXaZHIdRwB"
      },
      "execution_count": 2,
      "outputs": []
    },
    {
      "cell_type": "markdown",
      "source": [
        "We won't be doing any visualisations in this notebook I think, but it's a good practice to be prepared here. "
      ],
      "metadata": {
        "id": "ZJfu2-bjdaZ2"
      }
    },
    {
      "cell_type": "markdown",
      "source": [
        "## 1. Correcting the columns\n",
        "Before we jump in to any other cleaning and changes with our data, it is best to get to know it a little bit better. We need to see which columns have which type and decide, if we are going to group by some colums, or calculate some columns, etc. \n",
        "\n",
        "For this example, let's use the sales dataset from last notebook, this time I will translate all the name  of the colums do it's clearer."
      ],
      "metadata": {
        "id": "lqXpFviohl6B"
      }
    },
    {
      "cell_type": "code",
      "source": [
        "sales_df = pd.read_csv('dane_sprzedaz.csv', sep=',', encoding='utf-8')\n",
        "sales_df.columns = ['DATE', 'SHOP_ID', 'ITEM_ID', 'NET_PRICE', 'PROFIT_PERC', 'PROFIT']\n",
        "sales_df"
      ],
      "metadata": {
        "colab": {
          "base_uri": "https://localhost:8080/",
          "height": 419
        },
        "id": "P835W7GrBJDO",
        "outputId": "9909f89f-ca57-44c2-efb3-a280402e0296"
      },
      "execution_count": 26,
      "outputs": [
        {
          "output_type": "execute_result",
          "data": {
            "text/plain": [
              "           DATE  SHOP_ID  ITEM_ID  NET_PRICE  PROFIT_PERC PROFIT\n",
              "0    01.05.2022        1        1      416.0            9  37,44\n",
              "1    02.05.2022        1        1      454.0            2   9,08\n",
              "2    03.05.2022        1        1      392.0           13  50,96\n",
              "3    04.05.2022        1        1      498.0            9  44,82\n",
              "4    05.05.2022        1        1      341.0           15  51,15\n",
              "..          ...      ...      ...        ...          ...    ...\n",
              "130  11.05.2022        3        3      374.0            7  26,18\n",
              "131  12.05.2022        3        3      390.0            4   15,6\n",
              "132  13.05.2022        3        3      485.0           10   48,5\n",
              "133  14.05.2022        3        3      479.0            3  14,37\n",
              "134  15.05.2022        3        3      366.0           13  47,58\n",
              "\n",
              "[135 rows x 6 columns]"
            ],
            "text/html": [
              "\n",
              "  <div id=\"df-86aa5c7d-ad7c-4152-8dcc-27df57c8af72\">\n",
              "    <div class=\"colab-df-container\">\n",
              "      <div>\n",
              "<style scoped>\n",
              "    .dataframe tbody tr th:only-of-type {\n",
              "        vertical-align: middle;\n",
              "    }\n",
              "\n",
              "    .dataframe tbody tr th {\n",
              "        vertical-align: top;\n",
              "    }\n",
              "\n",
              "    .dataframe thead th {\n",
              "        text-align: right;\n",
              "    }\n",
              "</style>\n",
              "<table border=\"1\" class=\"dataframe\">\n",
              "  <thead>\n",
              "    <tr style=\"text-align: right;\">\n",
              "      <th></th>\n",
              "      <th>DATE</th>\n",
              "      <th>SHOP_ID</th>\n",
              "      <th>ITEM_ID</th>\n",
              "      <th>NET_PRICE</th>\n",
              "      <th>PROFIT_PERC</th>\n",
              "      <th>PROFIT</th>\n",
              "    </tr>\n",
              "  </thead>\n",
              "  <tbody>\n",
              "    <tr>\n",
              "      <th>0</th>\n",
              "      <td>01.05.2022</td>\n",
              "      <td>1</td>\n",
              "      <td>1</td>\n",
              "      <td>416.0</td>\n",
              "      <td>9</td>\n",
              "      <td>37,44</td>\n",
              "    </tr>\n",
              "    <tr>\n",
              "      <th>1</th>\n",
              "      <td>02.05.2022</td>\n",
              "      <td>1</td>\n",
              "      <td>1</td>\n",
              "      <td>454.0</td>\n",
              "      <td>2</td>\n",
              "      <td>9,08</td>\n",
              "    </tr>\n",
              "    <tr>\n",
              "      <th>2</th>\n",
              "      <td>03.05.2022</td>\n",
              "      <td>1</td>\n",
              "      <td>1</td>\n",
              "      <td>392.0</td>\n",
              "      <td>13</td>\n",
              "      <td>50,96</td>\n",
              "    </tr>\n",
              "    <tr>\n",
              "      <th>3</th>\n",
              "      <td>04.05.2022</td>\n",
              "      <td>1</td>\n",
              "      <td>1</td>\n",
              "      <td>498.0</td>\n",
              "      <td>9</td>\n",
              "      <td>44,82</td>\n",
              "    </tr>\n",
              "    <tr>\n",
              "      <th>4</th>\n",
              "      <td>05.05.2022</td>\n",
              "      <td>1</td>\n",
              "      <td>1</td>\n",
              "      <td>341.0</td>\n",
              "      <td>15</td>\n",
              "      <td>51,15</td>\n",
              "    </tr>\n",
              "    <tr>\n",
              "      <th>...</th>\n",
              "      <td>...</td>\n",
              "      <td>...</td>\n",
              "      <td>...</td>\n",
              "      <td>...</td>\n",
              "      <td>...</td>\n",
              "      <td>...</td>\n",
              "    </tr>\n",
              "    <tr>\n",
              "      <th>130</th>\n",
              "      <td>11.05.2022</td>\n",
              "      <td>3</td>\n",
              "      <td>3</td>\n",
              "      <td>374.0</td>\n",
              "      <td>7</td>\n",
              "      <td>26,18</td>\n",
              "    </tr>\n",
              "    <tr>\n",
              "      <th>131</th>\n",
              "      <td>12.05.2022</td>\n",
              "      <td>3</td>\n",
              "      <td>3</td>\n",
              "      <td>390.0</td>\n",
              "      <td>4</td>\n",
              "      <td>15,6</td>\n",
              "    </tr>\n",
              "    <tr>\n",
              "      <th>132</th>\n",
              "      <td>13.05.2022</td>\n",
              "      <td>3</td>\n",
              "      <td>3</td>\n",
              "      <td>485.0</td>\n",
              "      <td>10</td>\n",
              "      <td>48,5</td>\n",
              "    </tr>\n",
              "    <tr>\n",
              "      <th>133</th>\n",
              "      <td>14.05.2022</td>\n",
              "      <td>3</td>\n",
              "      <td>3</td>\n",
              "      <td>479.0</td>\n",
              "      <td>3</td>\n",
              "      <td>14,37</td>\n",
              "    </tr>\n",
              "    <tr>\n",
              "      <th>134</th>\n",
              "      <td>15.05.2022</td>\n",
              "      <td>3</td>\n",
              "      <td>3</td>\n",
              "      <td>366.0</td>\n",
              "      <td>13</td>\n",
              "      <td>47,58</td>\n",
              "    </tr>\n",
              "  </tbody>\n",
              "</table>\n",
              "<p>135 rows × 6 columns</p>\n",
              "</div>\n",
              "      <button class=\"colab-df-convert\" onclick=\"convertToInteractive('df-86aa5c7d-ad7c-4152-8dcc-27df57c8af72')\"\n",
              "              title=\"Convert this dataframe to an interactive table.\"\n",
              "              style=\"display:none;\">\n",
              "        \n",
              "  <svg xmlns=\"http://www.w3.org/2000/svg\" height=\"24px\"viewBox=\"0 0 24 24\"\n",
              "       width=\"24px\">\n",
              "    <path d=\"M0 0h24v24H0V0z\" fill=\"none\"/>\n",
              "    <path d=\"M18.56 5.44l.94 2.06.94-2.06 2.06-.94-2.06-.94-.94-2.06-.94 2.06-2.06.94zm-11 1L8.5 8.5l.94-2.06 2.06-.94-2.06-.94L8.5 2.5l-.94 2.06-2.06.94zm10 10l.94 2.06.94-2.06 2.06-.94-2.06-.94-.94-2.06-.94 2.06-2.06.94z\"/><path d=\"M17.41 7.96l-1.37-1.37c-.4-.4-.92-.59-1.43-.59-.52 0-1.04.2-1.43.59L10.3 9.45l-7.72 7.72c-.78.78-.78 2.05 0 2.83L4 21.41c.39.39.9.59 1.41.59.51 0 1.02-.2 1.41-.59l7.78-7.78 2.81-2.81c.8-.78.8-2.07 0-2.86zM5.41 20L4 18.59l7.72-7.72 1.47 1.35L5.41 20z\"/>\n",
              "  </svg>\n",
              "      </button>\n",
              "      \n",
              "  <style>\n",
              "    .colab-df-container {\n",
              "      display:flex;\n",
              "      flex-wrap:wrap;\n",
              "      gap: 12px;\n",
              "    }\n",
              "\n",
              "    .colab-df-convert {\n",
              "      background-color: #E8F0FE;\n",
              "      border: none;\n",
              "      border-radius: 50%;\n",
              "      cursor: pointer;\n",
              "      display: none;\n",
              "      fill: #1967D2;\n",
              "      height: 32px;\n",
              "      padding: 0 0 0 0;\n",
              "      width: 32px;\n",
              "    }\n",
              "\n",
              "    .colab-df-convert:hover {\n",
              "      background-color: #E2EBFA;\n",
              "      box-shadow: 0px 1px 2px rgba(60, 64, 67, 0.3), 0px 1px 3px 1px rgba(60, 64, 67, 0.15);\n",
              "      fill: #174EA6;\n",
              "    }\n",
              "\n",
              "    [theme=dark] .colab-df-convert {\n",
              "      background-color: #3B4455;\n",
              "      fill: #D2E3FC;\n",
              "    }\n",
              "\n",
              "    [theme=dark] .colab-df-convert:hover {\n",
              "      background-color: #434B5C;\n",
              "      box-shadow: 0px 1px 3px 1px rgba(0, 0, 0, 0.15);\n",
              "      filter: drop-shadow(0px 1px 2px rgba(0, 0, 0, 0.3));\n",
              "      fill: #FFFFFF;\n",
              "    }\n",
              "  </style>\n",
              "\n",
              "      <script>\n",
              "        const buttonEl =\n",
              "          document.querySelector('#df-86aa5c7d-ad7c-4152-8dcc-27df57c8af72 button.colab-df-convert');\n",
              "        buttonEl.style.display =\n",
              "          google.colab.kernel.accessAllowed ? 'block' : 'none';\n",
              "\n",
              "        async function convertToInteractive(key) {\n",
              "          const element = document.querySelector('#df-86aa5c7d-ad7c-4152-8dcc-27df57c8af72');\n",
              "          const dataTable =\n",
              "            await google.colab.kernel.invokeFunction('convertToInteractive',\n",
              "                                                     [key], {});\n",
              "          if (!dataTable) return;\n",
              "\n",
              "          const docLinkHtml = 'Like what you see? Visit the ' +\n",
              "            '<a target=\"_blank\" href=https://colab.research.google.com/notebooks/data_table.ipynb>data table notebook</a>'\n",
              "            + ' to learn more about interactive tables.';\n",
              "          element.innerHTML = '';\n",
              "          dataTable['output_type'] = 'display_data';\n",
              "          await google.colab.output.renderOutput(dataTable, element);\n",
              "          const docLink = document.createElement('div');\n",
              "          docLink.innerHTML = docLinkHtml;\n",
              "          element.appendChild(docLink);\n",
              "        }\n",
              "      </script>\n",
              "    </div>\n",
              "  </div>\n",
              "  "
            ]
          },
          "metadata": {},
          "execution_count": 26
        }
      ]
    },
    {
      "cell_type": "code",
      "source": [
        "# DataFrame ready, let's check the columns\n",
        "sales_df.info()"
      ],
      "metadata": {
        "id": "mQFWR9Z-BsVS"
      },
      "execution_count": null,
      "outputs": []
    },
    {
      "cell_type": "markdown",
      "source": [
        "We see that the DATE and PROFIT columns are in type object. While for date will split that in the next topic, or change into datetype data, first we need to take care of the profit column - this is how much earnings came from an item. Logically, this should be an float value, so we could get some statistics out of it."
      ],
      "metadata": {
        "id": "D8KLUjCZBzF7"
      }
    },
    {
      "cell_type": "code",
      "source": [
        "# let's first replace the coma with a dot, to have a proper form\n",
        "sales_df['PROFIT'] = sales_df.PROFIT.str.replace(',', '.')\n",
        "sales_df['PROFIT']"
      ],
      "metadata": {
        "id": "B8QPKkdgD_Sg"
      },
      "execution_count": null,
      "outputs": []
    },
    {
      "cell_type": "code",
      "source": [
        "# now that we have it in proper form, since this is still an object\n",
        "sales_df['PROFIT'] = sales_df.PROFIT.astype(float)\n",
        "sales_df['PROFIT']"
      ],
      "metadata": {
        "id": "by4pUr4nEdh_"
      },
      "execution_count": null,
      "outputs": []
    },
    {
      "cell_type": "code",
      "source": [
        "# another computation for that could be\n",
        "sales_df['PROFIT'] = pd.to_numeric(sales_df['PROFIT'])\n",
        "sales_df['PROFIT']"
      ],
      "metadata": {
        "id": "7OfbVdsFFtGI"
      },
      "execution_count": null,
      "outputs": []
    },
    {
      "cell_type": "markdown",
      "source": [
        "There are also two other function to change the data type in a column, for example if we would like to change the SHOP_ID value to string or object - since this is a shop's id, we won't be looking for maximum value or sum of the shops ids.   \n",
        "Good explanation on two remaining methods can be found on [StackOverflow](https://stackoverflow.com/questions/15891038/change-column-type-in-pandas).  \n",
        "There are also other Pandas methods like `.to_numeric()`, as presented below."
      ],
      "metadata": {
        "id": "HWiLKXJZGCcL"
      }
    },
    {
      "cell_type": "code",
      "source": [
        "# as mentioned, we could also change the DATE from an object type to a datetime type\n",
        "sales_df['DATE'] = pd.to_datetime(sales_df['DATE'], errors = 'coerce', dayfirst=True)\n",
        "# dayfirst=True is important if we want the dates in a European date structure - if we leave it out,\n",
        "# it will provide us with the American, month-first structure\n",
        "sales_df['DATE']"
      ],
      "metadata": {
        "id": "kvUdxGJSGt5i"
      },
      "execution_count": null,
      "outputs": []
    },
    {
      "cell_type": "code",
      "source": [
        "# Let's go through one more example for quick corrections\n",
        "df2 = pd.DataFrame({\n",
        "    'NAME': ['APPLES', 'PEARS', 'STRAWBERRIES'],\n",
        "    'PRICE': ['$ 3.22', '$ 3.22',  '$ 3.22']\n",
        "})\n",
        "df2.info()"
      ],
      "metadata": {
        "id": "sinZPBjhVKOA"
      },
      "execution_count": null,
      "outputs": []
    },
    {
      "cell_type": "markdown",
      "source": [
        "The PRICE is once again, not a float but an object and it contains the $. We could replace it with, the same way we did last time `.replace('$ ', '')`, but let's go other route."
      ],
      "metadata": {
        "id": "tgRQwAkzVter"
      }
    },
    {
      "cell_type": "code",
      "source": [
        "remove_dol = lambda x: float(x[2:]) # we are trimming the values with this code\n",
        "df2['PRICE_IN_DOLLARS'] = df2.PRICE.apply(remove_dol) # creating a new column with float values\n",
        "df2"
      ],
      "metadata": {
        "id": "9tb4oHnOWoZR"
      },
      "execution_count": null,
      "outputs": []
    },
    {
      "cell_type": "markdown",
      "source": [
        "One more important and useful tip is to remember about the `.strip()` method for string values, which could help us avoid stupid duplicate values in object columns, especially if these were typed in by different people or from a survey and some might have pressed space on too many times."
      ],
      "metadata": {
        "id": "Y-2GfPw0XC6x"
      }
    },
    {
      "cell_type": "markdown",
      "source": [
        "## 2. Splitting data fom one to many columns and concatenating\n",
        "Now that we have the sales_df columns in correct data types, let's see how we can get even more information from the date, as there are quite a few informations - year, month and day."
      ],
      "metadata": {
        "id": "NLGjA7a1Gpfa"
      }
    },
    {
      "cell_type": "code",
      "source": [
        "# We need to create new columns for all the values we want - year, month and date\n",
        "sales_df['YEAR'] = sales_df['DATE'].dt.year\n",
        "sales_df['MONTH'] = sales_df['DATE'].dt.month\n",
        "sales_df['DAY'] = sales_df['DATE'].dt.day\n",
        "sales_df"
      ],
      "metadata": {
        "id": "AZuTI7o5YRY-"
      },
      "execution_count": null,
      "outputs": []
    },
    {
      "cell_type": "markdown",
      "source": [
        "Great! Now we can check what is the range from the first to last day, how many months and years are there, etc.\n"
      ],
      "metadata": {
        "id": "Up291NFJZdtL"
      }
    },
    {
      "cell_type": "code",
      "source": [
        "# Let's make another example, this time with string objects in the column\n",
        "df = pd.DataFrame({\n",
        "    'Address': ['4860 Sunset Boulevard,San Francisco,California',\n",
        "                '3055 Paradise Lane,Salt Lake City,Utah',\n",
        "                '682 Main Street,Detroit,Michigan',\n",
        "                '9001 Cascade Road,Kansas City,Missouri']\n",
        "})\n",
        "df"
      ],
      "metadata": {
        "colab": {
          "base_uri": "https://localhost:8080/",
          "height": 173
        },
        "id": "-HktmOB6a36j",
        "outputId": "b4952159-1fbc-4765-e80e-362cfc7ad988"
      },
      "execution_count": 55,
      "outputs": [
        {
          "output_type": "execute_result",
          "data": {
            "text/plain": [
              "                                          Address\n",
              "0  4860 Sunset Boulevard,San Francisco,California\n",
              "1          3055 Paradise Lane,Salt Lake City,Utah\n",
              "2                682 Main Street,Detroit,Michigan\n",
              "3          9001 Cascade Road,Kansas City,Missouri"
            ],
            "text/html": [
              "\n",
              "  <div id=\"df-f13d252e-4ed4-4bbe-bb43-f29c9f0b6048\">\n",
              "    <div class=\"colab-df-container\">\n",
              "      <div>\n",
              "<style scoped>\n",
              "    .dataframe tbody tr th:only-of-type {\n",
              "        vertical-align: middle;\n",
              "    }\n",
              "\n",
              "    .dataframe tbody tr th {\n",
              "        vertical-align: top;\n",
              "    }\n",
              "\n",
              "    .dataframe thead th {\n",
              "        text-align: right;\n",
              "    }\n",
              "</style>\n",
              "<table border=\"1\" class=\"dataframe\">\n",
              "  <thead>\n",
              "    <tr style=\"text-align: right;\">\n",
              "      <th></th>\n",
              "      <th>Address</th>\n",
              "    </tr>\n",
              "  </thead>\n",
              "  <tbody>\n",
              "    <tr>\n",
              "      <th>0</th>\n",
              "      <td>4860 Sunset Boulevard,San Francisco,California</td>\n",
              "    </tr>\n",
              "    <tr>\n",
              "      <th>1</th>\n",
              "      <td>3055 Paradise Lane,Salt Lake City,Utah</td>\n",
              "    </tr>\n",
              "    <tr>\n",
              "      <th>2</th>\n",
              "      <td>682 Main Street,Detroit,Michigan</td>\n",
              "    </tr>\n",
              "    <tr>\n",
              "      <th>3</th>\n",
              "      <td>9001 Cascade Road,Kansas City,Missouri</td>\n",
              "    </tr>\n",
              "  </tbody>\n",
              "</table>\n",
              "</div>\n",
              "      <button class=\"colab-df-convert\" onclick=\"convertToInteractive('df-f13d252e-4ed4-4bbe-bb43-f29c9f0b6048')\"\n",
              "              title=\"Convert this dataframe to an interactive table.\"\n",
              "              style=\"display:none;\">\n",
              "        \n",
              "  <svg xmlns=\"http://www.w3.org/2000/svg\" height=\"24px\"viewBox=\"0 0 24 24\"\n",
              "       width=\"24px\">\n",
              "    <path d=\"M0 0h24v24H0V0z\" fill=\"none\"/>\n",
              "    <path d=\"M18.56 5.44l.94 2.06.94-2.06 2.06-.94-2.06-.94-.94-2.06-.94 2.06-2.06.94zm-11 1L8.5 8.5l.94-2.06 2.06-.94-2.06-.94L8.5 2.5l-.94 2.06-2.06.94zm10 10l.94 2.06.94-2.06 2.06-.94-2.06-.94-.94-2.06-.94 2.06-2.06.94z\"/><path d=\"M17.41 7.96l-1.37-1.37c-.4-.4-.92-.59-1.43-.59-.52 0-1.04.2-1.43.59L10.3 9.45l-7.72 7.72c-.78.78-.78 2.05 0 2.83L4 21.41c.39.39.9.59 1.41.59.51 0 1.02-.2 1.41-.59l7.78-7.78 2.81-2.81c.8-.78.8-2.07 0-2.86zM5.41 20L4 18.59l7.72-7.72 1.47 1.35L5.41 20z\"/>\n",
              "  </svg>\n",
              "      </button>\n",
              "      \n",
              "  <style>\n",
              "    .colab-df-container {\n",
              "      display:flex;\n",
              "      flex-wrap:wrap;\n",
              "      gap: 12px;\n",
              "    }\n",
              "\n",
              "    .colab-df-convert {\n",
              "      background-color: #E8F0FE;\n",
              "      border: none;\n",
              "      border-radius: 50%;\n",
              "      cursor: pointer;\n",
              "      display: none;\n",
              "      fill: #1967D2;\n",
              "      height: 32px;\n",
              "      padding: 0 0 0 0;\n",
              "      width: 32px;\n",
              "    }\n",
              "\n",
              "    .colab-df-convert:hover {\n",
              "      background-color: #E2EBFA;\n",
              "      box-shadow: 0px 1px 2px rgba(60, 64, 67, 0.3), 0px 1px 3px 1px rgba(60, 64, 67, 0.15);\n",
              "      fill: #174EA6;\n",
              "    }\n",
              "\n",
              "    [theme=dark] .colab-df-convert {\n",
              "      background-color: #3B4455;\n",
              "      fill: #D2E3FC;\n",
              "    }\n",
              "\n",
              "    [theme=dark] .colab-df-convert:hover {\n",
              "      background-color: #434B5C;\n",
              "      box-shadow: 0px 1px 3px 1px rgba(0, 0, 0, 0.15);\n",
              "      filter: drop-shadow(0px 1px 2px rgba(0, 0, 0, 0.3));\n",
              "      fill: #FFFFFF;\n",
              "    }\n",
              "  </style>\n",
              "\n",
              "      <script>\n",
              "        const buttonEl =\n",
              "          document.querySelector('#df-f13d252e-4ed4-4bbe-bb43-f29c9f0b6048 button.colab-df-convert');\n",
              "        buttonEl.style.display =\n",
              "          google.colab.kernel.accessAllowed ? 'block' : 'none';\n",
              "\n",
              "        async function convertToInteractive(key) {\n",
              "          const element = document.querySelector('#df-f13d252e-4ed4-4bbe-bb43-f29c9f0b6048');\n",
              "          const dataTable =\n",
              "            await google.colab.kernel.invokeFunction('convertToInteractive',\n",
              "                                                     [key], {});\n",
              "          if (!dataTable) return;\n",
              "\n",
              "          const docLinkHtml = 'Like what you see? Visit the ' +\n",
              "            '<a target=\"_blank\" href=https://colab.research.google.com/notebooks/data_table.ipynb>data table notebook</a>'\n",
              "            + ' to learn more about interactive tables.';\n",
              "          element.innerHTML = '';\n",
              "          dataTable['output_type'] = 'display_data';\n",
              "          await google.colab.output.renderOutput(dataTable, element);\n",
              "          const docLink = document.createElement('div');\n",
              "          docLink.innerHTML = docLinkHtml;\n",
              "          element.appendChild(docLink);\n",
              "        }\n",
              "      </script>\n",
              "    </div>\n",
              "  </div>\n",
              "  "
            ]
          },
          "metadata": {},
          "execution_count": 55
        }
      ]
    },
    {
      "cell_type": "code",
      "source": [
        "# Now we see that all these Addresses have same template, so we want to split it\n",
        "df['Address'].str.split(',', expand=True) # expand=True creates new columns from the split\n",
        "# if we do not add it, we will get a list for reach row, where every split will create new element\n",
        "# this is however only temporary view!"
      ],
      "metadata": {
        "colab": {
          "base_uri": "https://localhost:8080/",
          "height": 173
        },
        "id": "gSTbX2Wfa_xD",
        "outputId": "3a2cc6c6-e7d3-4a36-987e-f29541d551ff"
      },
      "execution_count": 60,
      "outputs": [
        {
          "output_type": "execute_result",
          "data": {
            "text/plain": [
              "                       0               1           2\n",
              "0  4860 Sunset Boulevard   San Francisco  California\n",
              "1     3055 Paradise Lane  Salt Lake City        Utah\n",
              "2        682 Main Street         Detroit    Michigan\n",
              "3      9001 Cascade Road     Kansas City    Missouri"
            ],
            "text/html": [
              "\n",
              "  <div id=\"df-c8bd377b-e20b-4b94-82c3-55adf37c9001\">\n",
              "    <div class=\"colab-df-container\">\n",
              "      <div>\n",
              "<style scoped>\n",
              "    .dataframe tbody tr th:only-of-type {\n",
              "        vertical-align: middle;\n",
              "    }\n",
              "\n",
              "    .dataframe tbody tr th {\n",
              "        vertical-align: top;\n",
              "    }\n",
              "\n",
              "    .dataframe thead th {\n",
              "        text-align: right;\n",
              "    }\n",
              "</style>\n",
              "<table border=\"1\" class=\"dataframe\">\n",
              "  <thead>\n",
              "    <tr style=\"text-align: right;\">\n",
              "      <th></th>\n",
              "      <th>0</th>\n",
              "      <th>1</th>\n",
              "      <th>2</th>\n",
              "    </tr>\n",
              "  </thead>\n",
              "  <tbody>\n",
              "    <tr>\n",
              "      <th>0</th>\n",
              "      <td>4860 Sunset Boulevard</td>\n",
              "      <td>San Francisco</td>\n",
              "      <td>California</td>\n",
              "    </tr>\n",
              "    <tr>\n",
              "      <th>1</th>\n",
              "      <td>3055 Paradise Lane</td>\n",
              "      <td>Salt Lake City</td>\n",
              "      <td>Utah</td>\n",
              "    </tr>\n",
              "    <tr>\n",
              "      <th>2</th>\n",
              "      <td>682 Main Street</td>\n",
              "      <td>Detroit</td>\n",
              "      <td>Michigan</td>\n",
              "    </tr>\n",
              "    <tr>\n",
              "      <th>3</th>\n",
              "      <td>9001 Cascade Road</td>\n",
              "      <td>Kansas City</td>\n",
              "      <td>Missouri</td>\n",
              "    </tr>\n",
              "  </tbody>\n",
              "</table>\n",
              "</div>\n",
              "      <button class=\"colab-df-convert\" onclick=\"convertToInteractive('df-c8bd377b-e20b-4b94-82c3-55adf37c9001')\"\n",
              "              title=\"Convert this dataframe to an interactive table.\"\n",
              "              style=\"display:none;\">\n",
              "        \n",
              "  <svg xmlns=\"http://www.w3.org/2000/svg\" height=\"24px\"viewBox=\"0 0 24 24\"\n",
              "       width=\"24px\">\n",
              "    <path d=\"M0 0h24v24H0V0z\" fill=\"none\"/>\n",
              "    <path d=\"M18.56 5.44l.94 2.06.94-2.06 2.06-.94-2.06-.94-.94-2.06-.94 2.06-2.06.94zm-11 1L8.5 8.5l.94-2.06 2.06-.94-2.06-.94L8.5 2.5l-.94 2.06-2.06.94zm10 10l.94 2.06.94-2.06 2.06-.94-2.06-.94-.94-2.06-.94 2.06-2.06.94z\"/><path d=\"M17.41 7.96l-1.37-1.37c-.4-.4-.92-.59-1.43-.59-.52 0-1.04.2-1.43.59L10.3 9.45l-7.72 7.72c-.78.78-.78 2.05 0 2.83L4 21.41c.39.39.9.59 1.41.59.51 0 1.02-.2 1.41-.59l7.78-7.78 2.81-2.81c.8-.78.8-2.07 0-2.86zM5.41 20L4 18.59l7.72-7.72 1.47 1.35L5.41 20z\"/>\n",
              "  </svg>\n",
              "      </button>\n",
              "      \n",
              "  <style>\n",
              "    .colab-df-container {\n",
              "      display:flex;\n",
              "      flex-wrap:wrap;\n",
              "      gap: 12px;\n",
              "    }\n",
              "\n",
              "    .colab-df-convert {\n",
              "      background-color: #E8F0FE;\n",
              "      border: none;\n",
              "      border-radius: 50%;\n",
              "      cursor: pointer;\n",
              "      display: none;\n",
              "      fill: #1967D2;\n",
              "      height: 32px;\n",
              "      padding: 0 0 0 0;\n",
              "      width: 32px;\n",
              "    }\n",
              "\n",
              "    .colab-df-convert:hover {\n",
              "      background-color: #E2EBFA;\n",
              "      box-shadow: 0px 1px 2px rgba(60, 64, 67, 0.3), 0px 1px 3px 1px rgba(60, 64, 67, 0.15);\n",
              "      fill: #174EA6;\n",
              "    }\n",
              "\n",
              "    [theme=dark] .colab-df-convert {\n",
              "      background-color: #3B4455;\n",
              "      fill: #D2E3FC;\n",
              "    }\n",
              "\n",
              "    [theme=dark] .colab-df-convert:hover {\n",
              "      background-color: #434B5C;\n",
              "      box-shadow: 0px 1px 3px 1px rgba(0, 0, 0, 0.15);\n",
              "      filter: drop-shadow(0px 1px 2px rgba(0, 0, 0, 0.3));\n",
              "      fill: #FFFFFF;\n",
              "    }\n",
              "  </style>\n",
              "\n",
              "      <script>\n",
              "        const buttonEl =\n",
              "          document.querySelector('#df-c8bd377b-e20b-4b94-82c3-55adf37c9001 button.colab-df-convert');\n",
              "        buttonEl.style.display =\n",
              "          google.colab.kernel.accessAllowed ? 'block' : 'none';\n",
              "\n",
              "        async function convertToInteractive(key) {\n",
              "          const element = document.querySelector('#df-c8bd377b-e20b-4b94-82c3-55adf37c9001');\n",
              "          const dataTable =\n",
              "            await google.colab.kernel.invokeFunction('convertToInteractive',\n",
              "                                                     [key], {});\n",
              "          if (!dataTable) return;\n",
              "\n",
              "          const docLinkHtml = 'Like what you see? Visit the ' +\n",
              "            '<a target=\"_blank\" href=https://colab.research.google.com/notebooks/data_table.ipynb>data table notebook</a>'\n",
              "            + ' to learn more about interactive tables.';\n",
              "          element.innerHTML = '';\n",
              "          dataTable['output_type'] = 'display_data';\n",
              "          await google.colab.output.renderOutput(dataTable, element);\n",
              "          const docLink = document.createElement('div');\n",
              "          docLink.innerHTML = docLinkHtml;\n",
              "          element.appendChild(docLink);\n",
              "        }\n",
              "      </script>\n",
              "    </div>\n",
              "  </div>\n",
              "  "
            ]
          },
          "metadata": {},
          "execution_count": 60
        }
      ]
    },
    {
      "cell_type": "code",
      "source": [
        "# To create a safe columns, we would have to do is similar to the date, or we can use another computation\n",
        "df = df.assign(Street = df['Address'].str.split(',', expand=True)[0],\n",
        "               City = df['Address'].str.split(',', expand=True)[1],\n",
        "               State = df['Address'].str.split(',', expand=True)[2])\n",
        "# we can now delete the Address, since we will create a few new ;)\n",
        "df = df.drop(['Address'], axis=1)"
      ],
      "metadata": {
        "id": "AIs7t7IAeRQk"
      },
      "execution_count": 70,
      "outputs": []
    },
    {
      "cell_type": "markdown",
      "source": [
        "Now that we know how to split different data into new columns, what if we would like to join two or more columns?  \n",
        "As with all concatenations, it is important that the concatenated data should be the same data type. If they aren't in the columns, we need to convert them in out concatenating code."
      ],
      "metadata": {
        "id": "wJGdXu6Dbqcq"
      }
    },
    {
      "cell_type": "code",
      "source": [
        "# Let's do one example from the DataFrame above\n",
        "# To create a concatenated column, we of course need to create a new column\n",
        "df['City_State'] = df['City'] + \" - \" + df['State']\n",
        "df"
      ],
      "metadata": {
        "colab": {
          "base_uri": "https://localhost:8080/",
          "height": 173
        },
        "id": "RfBetifBcI7Y",
        "outputId": "2523efcc-1dea-4c4a-d03f-38b07e0d0428"
      },
      "execution_count": 71,
      "outputs": [
        {
          "output_type": "execute_result",
          "data": {
            "text/plain": [
              "                  Street            City       State  \\\n",
              "0  4860 Sunset Boulevard   San Francisco  California   \n",
              "1     3055 Paradise Lane  Salt Lake City        Utah   \n",
              "2        682 Main Street         Detroit    Michigan   \n",
              "3      9001 Cascade Road     Kansas City    Missouri   \n",
              "\n",
              "                   City_State  \n",
              "0  San Francisco - California  \n",
              "1       Salt Lake City - Utah  \n",
              "2          Detroit - Michigan  \n",
              "3      Kansas City - Missouri  "
            ],
            "text/html": [
              "\n",
              "  <div id=\"df-98bec77e-8559-4afb-bc9e-827ca973919b\">\n",
              "    <div class=\"colab-df-container\">\n",
              "      <div>\n",
              "<style scoped>\n",
              "    .dataframe tbody tr th:only-of-type {\n",
              "        vertical-align: middle;\n",
              "    }\n",
              "\n",
              "    .dataframe tbody tr th {\n",
              "        vertical-align: top;\n",
              "    }\n",
              "\n",
              "    .dataframe thead th {\n",
              "        text-align: right;\n",
              "    }\n",
              "</style>\n",
              "<table border=\"1\" class=\"dataframe\">\n",
              "  <thead>\n",
              "    <tr style=\"text-align: right;\">\n",
              "      <th></th>\n",
              "      <th>Street</th>\n",
              "      <th>City</th>\n",
              "      <th>State</th>\n",
              "      <th>City_State</th>\n",
              "    </tr>\n",
              "  </thead>\n",
              "  <tbody>\n",
              "    <tr>\n",
              "      <th>0</th>\n",
              "      <td>4860 Sunset Boulevard</td>\n",
              "      <td>San Francisco</td>\n",
              "      <td>California</td>\n",
              "      <td>San Francisco - California</td>\n",
              "    </tr>\n",
              "    <tr>\n",
              "      <th>1</th>\n",
              "      <td>3055 Paradise Lane</td>\n",
              "      <td>Salt Lake City</td>\n",
              "      <td>Utah</td>\n",
              "      <td>Salt Lake City - Utah</td>\n",
              "    </tr>\n",
              "    <tr>\n",
              "      <th>2</th>\n",
              "      <td>682 Main Street</td>\n",
              "      <td>Detroit</td>\n",
              "      <td>Michigan</td>\n",
              "      <td>Detroit - Michigan</td>\n",
              "    </tr>\n",
              "    <tr>\n",
              "      <th>3</th>\n",
              "      <td>9001 Cascade Road</td>\n",
              "      <td>Kansas City</td>\n",
              "      <td>Missouri</td>\n",
              "      <td>Kansas City - Missouri</td>\n",
              "    </tr>\n",
              "  </tbody>\n",
              "</table>\n",
              "</div>\n",
              "      <button class=\"colab-df-convert\" onclick=\"convertToInteractive('df-98bec77e-8559-4afb-bc9e-827ca973919b')\"\n",
              "              title=\"Convert this dataframe to an interactive table.\"\n",
              "              style=\"display:none;\">\n",
              "        \n",
              "  <svg xmlns=\"http://www.w3.org/2000/svg\" height=\"24px\"viewBox=\"0 0 24 24\"\n",
              "       width=\"24px\">\n",
              "    <path d=\"M0 0h24v24H0V0z\" fill=\"none\"/>\n",
              "    <path d=\"M18.56 5.44l.94 2.06.94-2.06 2.06-.94-2.06-.94-.94-2.06-.94 2.06-2.06.94zm-11 1L8.5 8.5l.94-2.06 2.06-.94-2.06-.94L8.5 2.5l-.94 2.06-2.06.94zm10 10l.94 2.06.94-2.06 2.06-.94-2.06-.94-.94-2.06-.94 2.06-2.06.94z\"/><path d=\"M17.41 7.96l-1.37-1.37c-.4-.4-.92-.59-1.43-.59-.52 0-1.04.2-1.43.59L10.3 9.45l-7.72 7.72c-.78.78-.78 2.05 0 2.83L4 21.41c.39.39.9.59 1.41.59.51 0 1.02-.2 1.41-.59l7.78-7.78 2.81-2.81c.8-.78.8-2.07 0-2.86zM5.41 20L4 18.59l7.72-7.72 1.47 1.35L5.41 20z\"/>\n",
              "  </svg>\n",
              "      </button>\n",
              "      \n",
              "  <style>\n",
              "    .colab-df-container {\n",
              "      display:flex;\n",
              "      flex-wrap:wrap;\n",
              "      gap: 12px;\n",
              "    }\n",
              "\n",
              "    .colab-df-convert {\n",
              "      background-color: #E8F0FE;\n",
              "      border: none;\n",
              "      border-radius: 50%;\n",
              "      cursor: pointer;\n",
              "      display: none;\n",
              "      fill: #1967D2;\n",
              "      height: 32px;\n",
              "      padding: 0 0 0 0;\n",
              "      width: 32px;\n",
              "    }\n",
              "\n",
              "    .colab-df-convert:hover {\n",
              "      background-color: #E2EBFA;\n",
              "      box-shadow: 0px 1px 2px rgba(60, 64, 67, 0.3), 0px 1px 3px 1px rgba(60, 64, 67, 0.15);\n",
              "      fill: #174EA6;\n",
              "    }\n",
              "\n",
              "    [theme=dark] .colab-df-convert {\n",
              "      background-color: #3B4455;\n",
              "      fill: #D2E3FC;\n",
              "    }\n",
              "\n",
              "    [theme=dark] .colab-df-convert:hover {\n",
              "      background-color: #434B5C;\n",
              "      box-shadow: 0px 1px 3px 1px rgba(0, 0, 0, 0.15);\n",
              "      filter: drop-shadow(0px 1px 2px rgba(0, 0, 0, 0.3));\n",
              "      fill: #FFFFFF;\n",
              "    }\n",
              "  </style>\n",
              "\n",
              "      <script>\n",
              "        const buttonEl =\n",
              "          document.querySelector('#df-98bec77e-8559-4afb-bc9e-827ca973919b button.colab-df-convert');\n",
              "        buttonEl.style.display =\n",
              "          google.colab.kernel.accessAllowed ? 'block' : 'none';\n",
              "\n",
              "        async function convertToInteractive(key) {\n",
              "          const element = document.querySelector('#df-98bec77e-8559-4afb-bc9e-827ca973919b');\n",
              "          const dataTable =\n",
              "            await google.colab.kernel.invokeFunction('convertToInteractive',\n",
              "                                                     [key], {});\n",
              "          if (!dataTable) return;\n",
              "\n",
              "          const docLinkHtml = 'Like what you see? Visit the ' +\n",
              "            '<a target=\"_blank\" href=https://colab.research.google.com/notebooks/data_table.ipynb>data table notebook</a>'\n",
              "            + ' to learn more about interactive tables.';\n",
              "          element.innerHTML = '';\n",
              "          dataTable['output_type'] = 'display_data';\n",
              "          await google.colab.output.renderOutput(dataTable, element);\n",
              "          const docLink = document.createElement('div');\n",
              "          docLink.innerHTML = docLinkHtml;\n",
              "          element.appendChild(docLink);\n",
              "        }\n",
              "      </script>\n",
              "    </div>\n",
              "  </div>\n",
              "  "
            ]
          },
          "metadata": {},
          "execution_count": 71
        }
      ]
    },
    {
      "cell_type": "code",
      "source": [
        "# the easiest concatenation ever\n",
        "# let's try different syntax \n",
        "df['Address_New'] = df[['Street', 'City', 'State']].apply(', '.join, axis=1)\n",
        "df"
      ],
      "metadata": {
        "colab": {
          "base_uri": "https://localhost:8080/",
          "height": 173
        },
        "id": "9M5yHsoHjynx",
        "outputId": "085ba5d8-6920-4562-ffd9-eac9055d5810"
      },
      "execution_count": 72,
      "outputs": [
        {
          "output_type": "execute_result",
          "data": {
            "text/plain": [
              "                  Street            City       State  \\\n",
              "0  4860 Sunset Boulevard   San Francisco  California   \n",
              "1     3055 Paradise Lane  Salt Lake City        Utah   \n",
              "2        682 Main Street         Detroit    Michigan   \n",
              "3      9001 Cascade Road     Kansas City    Missouri   \n",
              "\n",
              "                   City_State  \\\n",
              "0  San Francisco - California   \n",
              "1       Salt Lake City - Utah   \n",
              "2          Detroit - Michigan   \n",
              "3      Kansas City - Missouri   \n",
              "\n",
              "                                        Address_New  \n",
              "0  4860 Sunset Boulevard, San Francisco, California  \n",
              "1          3055 Paradise Lane, Salt Lake City, Utah  \n",
              "2                682 Main Street, Detroit, Michigan  \n",
              "3          9001 Cascade Road, Kansas City, Missouri  "
            ],
            "text/html": [
              "\n",
              "  <div id=\"df-5b82cd96-61ef-4966-9e9f-32fb1560fa91\">\n",
              "    <div class=\"colab-df-container\">\n",
              "      <div>\n",
              "<style scoped>\n",
              "    .dataframe tbody tr th:only-of-type {\n",
              "        vertical-align: middle;\n",
              "    }\n",
              "\n",
              "    .dataframe tbody tr th {\n",
              "        vertical-align: top;\n",
              "    }\n",
              "\n",
              "    .dataframe thead th {\n",
              "        text-align: right;\n",
              "    }\n",
              "</style>\n",
              "<table border=\"1\" class=\"dataframe\">\n",
              "  <thead>\n",
              "    <tr style=\"text-align: right;\">\n",
              "      <th></th>\n",
              "      <th>Street</th>\n",
              "      <th>City</th>\n",
              "      <th>State</th>\n",
              "      <th>City_State</th>\n",
              "      <th>Address_New</th>\n",
              "    </tr>\n",
              "  </thead>\n",
              "  <tbody>\n",
              "    <tr>\n",
              "      <th>0</th>\n",
              "      <td>4860 Sunset Boulevard</td>\n",
              "      <td>San Francisco</td>\n",
              "      <td>California</td>\n",
              "      <td>San Francisco - California</td>\n",
              "      <td>4860 Sunset Boulevard, San Francisco, California</td>\n",
              "    </tr>\n",
              "    <tr>\n",
              "      <th>1</th>\n",
              "      <td>3055 Paradise Lane</td>\n",
              "      <td>Salt Lake City</td>\n",
              "      <td>Utah</td>\n",
              "      <td>Salt Lake City - Utah</td>\n",
              "      <td>3055 Paradise Lane, Salt Lake City, Utah</td>\n",
              "    </tr>\n",
              "    <tr>\n",
              "      <th>2</th>\n",
              "      <td>682 Main Street</td>\n",
              "      <td>Detroit</td>\n",
              "      <td>Michigan</td>\n",
              "      <td>Detroit - Michigan</td>\n",
              "      <td>682 Main Street, Detroit, Michigan</td>\n",
              "    </tr>\n",
              "    <tr>\n",
              "      <th>3</th>\n",
              "      <td>9001 Cascade Road</td>\n",
              "      <td>Kansas City</td>\n",
              "      <td>Missouri</td>\n",
              "      <td>Kansas City - Missouri</td>\n",
              "      <td>9001 Cascade Road, Kansas City, Missouri</td>\n",
              "    </tr>\n",
              "  </tbody>\n",
              "</table>\n",
              "</div>\n",
              "      <button class=\"colab-df-convert\" onclick=\"convertToInteractive('df-5b82cd96-61ef-4966-9e9f-32fb1560fa91')\"\n",
              "              title=\"Convert this dataframe to an interactive table.\"\n",
              "              style=\"display:none;\">\n",
              "        \n",
              "  <svg xmlns=\"http://www.w3.org/2000/svg\" height=\"24px\"viewBox=\"0 0 24 24\"\n",
              "       width=\"24px\">\n",
              "    <path d=\"M0 0h24v24H0V0z\" fill=\"none\"/>\n",
              "    <path d=\"M18.56 5.44l.94 2.06.94-2.06 2.06-.94-2.06-.94-.94-2.06-.94 2.06-2.06.94zm-11 1L8.5 8.5l.94-2.06 2.06-.94-2.06-.94L8.5 2.5l-.94 2.06-2.06.94zm10 10l.94 2.06.94-2.06 2.06-.94-2.06-.94-.94-2.06-.94 2.06-2.06.94z\"/><path d=\"M17.41 7.96l-1.37-1.37c-.4-.4-.92-.59-1.43-.59-.52 0-1.04.2-1.43.59L10.3 9.45l-7.72 7.72c-.78.78-.78 2.05 0 2.83L4 21.41c.39.39.9.59 1.41.59.51 0 1.02-.2 1.41-.59l7.78-7.78 2.81-2.81c.8-.78.8-2.07 0-2.86zM5.41 20L4 18.59l7.72-7.72 1.47 1.35L5.41 20z\"/>\n",
              "  </svg>\n",
              "      </button>\n",
              "      \n",
              "  <style>\n",
              "    .colab-df-container {\n",
              "      display:flex;\n",
              "      flex-wrap:wrap;\n",
              "      gap: 12px;\n",
              "    }\n",
              "\n",
              "    .colab-df-convert {\n",
              "      background-color: #E8F0FE;\n",
              "      border: none;\n",
              "      border-radius: 50%;\n",
              "      cursor: pointer;\n",
              "      display: none;\n",
              "      fill: #1967D2;\n",
              "      height: 32px;\n",
              "      padding: 0 0 0 0;\n",
              "      width: 32px;\n",
              "    }\n",
              "\n",
              "    .colab-df-convert:hover {\n",
              "      background-color: #E2EBFA;\n",
              "      box-shadow: 0px 1px 2px rgba(60, 64, 67, 0.3), 0px 1px 3px 1px rgba(60, 64, 67, 0.15);\n",
              "      fill: #174EA6;\n",
              "    }\n",
              "\n",
              "    [theme=dark] .colab-df-convert {\n",
              "      background-color: #3B4455;\n",
              "      fill: #D2E3FC;\n",
              "    }\n",
              "\n",
              "    [theme=dark] .colab-df-convert:hover {\n",
              "      background-color: #434B5C;\n",
              "      box-shadow: 0px 1px 3px 1px rgba(0, 0, 0, 0.15);\n",
              "      filter: drop-shadow(0px 1px 2px rgba(0, 0, 0, 0.3));\n",
              "      fill: #FFFFFF;\n",
              "    }\n",
              "  </style>\n",
              "\n",
              "      <script>\n",
              "        const buttonEl =\n",
              "          document.querySelector('#df-5b82cd96-61ef-4966-9e9f-32fb1560fa91 button.colab-df-convert');\n",
              "        buttonEl.style.display =\n",
              "          google.colab.kernel.accessAllowed ? 'block' : 'none';\n",
              "\n",
              "        async function convertToInteractive(key) {\n",
              "          const element = document.querySelector('#df-5b82cd96-61ef-4966-9e9f-32fb1560fa91');\n",
              "          const dataTable =\n",
              "            await google.colab.kernel.invokeFunction('convertToInteractive',\n",
              "                                                     [key], {});\n",
              "          if (!dataTable) return;\n",
              "\n",
              "          const docLinkHtml = 'Like what you see? Visit the ' +\n",
              "            '<a target=\"_blank\" href=https://colab.research.google.com/notebooks/data_table.ipynb>data table notebook</a>'\n",
              "            + ' to learn more about interactive tables.';\n",
              "          element.innerHTML = '';\n",
              "          dataTable['output_type'] = 'display_data';\n",
              "          await google.colab.output.renderOutput(dataTable, element);\n",
              "          const docLink = document.createElement('div');\n",
              "          docLink.innerHTML = docLinkHtml;\n",
              "          element.appendChild(docLink);\n",
              "        }\n",
              "      </script>\n",
              "    </div>\n",
              "  </div>\n",
              "  "
            ]
          },
          "metadata": {},
          "execution_count": 72
        }
      ]
    },
    {
      "cell_type": "markdown",
      "source": [
        "## 3. Handling missing values \n",
        "There are a few types of missing values in a DataFrame, which might cause some issues with the outcome and modeling.  \n",
        "These values could be put in a following list:  \n",
        "`falsy_values = (0, False, None, '', [], {})`  \n",
        "Don't get it wrong, 0 within a numeric column often won't be a missing data - it is important to know the context of the column before we start to clean it. With numeric data, if 0 is and outlier, it still gives us some information and might not be a mistake - it could mean that, for example, a store was closed that day, therefore the total retails is 0. Even more so, if 0 is within the range, then we don't touch it, as this most likely a totally valid data, especially if there are not many of it. However, if we get a 0 within object columns, this might be a missing value or no answer.\n",
        "\n",
        "Pandas also have their own version of missing values, which is *NaN*.   \n",
        "The difference between NaN and None value is that if we have a NaN value in a numeric column, this won't print out errors, unlike None. However, NaN might affect the outcome of the operation.\n"
      ],
      "metadata": {
        "id": "6mRHuNpseZLv"
      }
    },
    {
      "cell_type": "code",
      "source": [
        "# Let's use a new DataFrame, that has missing values\n",
        "dates = pd.date_range('20230401', periods=6)\n",
        "df = pd.DataFrame(np.random.randn(6, 4), \n",
        "                  index=dates, \n",
        "                  columns=list('ABCD'))\n",
        "df['D'] = -5\n",
        "df['E'] = [np.nan, -1,-2,-3, -4, -5]\n",
        "df['F'] = [1,2, np.nan, np.nan,np.nan, np.nan]\n",
        "df"
      ],
      "metadata": {
        "id": "FVVQJQ1neh9H"
      },
      "execution_count": null,
      "outputs": []
    },
    {
      "cell_type": "code",
      "source": [
        "# we can already see them, since this DataFrame is small, but let's check the info first\n",
        "df.info()"
      ],
      "metadata": {
        "id": "eU7eQTMLmhea"
      },
      "execution_count": null,
      "outputs": []
    },
    {
      "cell_type": "markdown",
      "source": [
        "Info method gives us quite a lot of useful information here.  \n",
        "We see that in the column E there is one null-value and in column F there are only 2 non-null values - 2/3 of data is missing. While the one missing value in column E might not throw off our analysis (it might, if under this missing value hiddes an outlier), but with 2/3 of information missing are not good source of information either."
      ],
      "metadata": {
        "id": "PdubWmory5yH"
      }
    },
    {
      "cell_type": "markdown",
      "source": [
        "**What do we do, if we see many missing values?**  \n",
        "1. We try to get these missing values from somewhere - from our client, from data engineers, from data bank, etc., wherever our data came from;\n",
        "2. We try to solve these using bussiness logic - perhaps these missing values are for something - days off, system errors, someone forgot to input the data, maybe the item has been discontinued, etc.;\n",
        "3. If we cannot get the data from anyone and we can't come up with a bussiness solution, we can fill these using statistics and math.\n",
        "\n",
        "If we do not get the data from somewhere, based on the bussiness logic, we can do a few things with the missing data:\n",
        "- *delete the rows with missing values* - it depends very much on the size of the dataset. Say we would have a few missing values in a large, or even medium-large data set, this shouldn't throw off the results too much. However, if that would throw off the distribution or does not cut out a whole category from another column. If these missing valeus are spead out pretty evenly and there are not many of them, we can delete them;\n",
        "- *delete the whole column* - depending on situation and columns importance. If we are missing more than a half of the data in one column, we can't get them, and it's not crucial - perhaps this would be the best option. Or, we could delete the rows and work on a sample that contains the data;\n",
        "- *ignore the missing values* - not the best solution overall, but also a possible approach. In this case, it would be best to provide the statistical values with and without the missing values in the report;\n",
        "- *fill with \"unknown\"* - works better with categorical data than numerical, could be useful at the begining stage of the analysis, but it would differ everytime for the latter stages;\n",
        "- *fill* - and we can distinguish quite a few ways to fill the unknown, besides \"unknown\":\n",
        "  - fill with the value from above or from below;\n",
        "  - fill with the mean or median;\n",
        "  - fill with the result from interpolation;\n",
        "  - fill with the data from a model.\n",
        "\n",
        "While there are quite a lot of methods, everytime we get to know a new dataset and we find missing values, we need to carefully choose the most optimised approach to deal with it. There is no *one size fits all* solution.\n"
      ],
      "metadata": {
        "id": "JpQ8CDNxpPpa"
      }
    },
    {
      "cell_type": "code",
      "source": [
        "# In here we have a practice dataset, so the actual outcome is not as important,\n",
        "# therefore we will try a few solutions"
      ],
      "metadata": {
        "id": "Q0wBHY__y0Wl"
      },
      "execution_count": 76,
      "outputs": []
    },
    {
      "cell_type": "code",
      "source": [
        "df[df.isna().any(axis=1)] # let's display all the rows with the missing values"
      ],
      "metadata": {
        "id": "kXmlu3MXzLil"
      },
      "execution_count": null,
      "outputs": []
    },
    {
      "cell_type": "code",
      "source": [
        "# now let's drop them\n",
        "df.dropna() "
      ],
      "metadata": {
        "id": "dAFJGmv7zav4"
      },
      "execution_count": null,
      "outputs": []
    },
    {
      "cell_type": "code",
      "source": [
        "# Not a lot is left in this dataset, right? The F column seems to be missing a lof of values. \n",
        "# Maybe it's better to just drop the F column\n",
        "df.drop(['F'], axis=1) # much less NaNs"
      ],
      "metadata": {
        "id": "PYKV-mbbzmqW"
      },
      "execution_count": null,
      "outputs": []
    },
    {
      "cell_type": "code",
      "source": [
        "# Okay, what if we don't want to drop the NaN values, but fill them with the upper one?\n",
        "df.fillna(method='ffill')"
      ],
      "metadata": {
        "id": "K4fgvy9Yz9SZ"
      },
      "execution_count": null,
      "outputs": []
    },
    {
      "cell_type": "code",
      "source": [
        "# There still is one NaN. The value is first in the column, so maybe lets fill it with the lower\n",
        "df.fillna(method='bfill') # we didn't save the DataFrame, so we don't have the results from last action"
      ],
      "metadata": {
        "id": "hLyuD1I00MRE"
      },
      "execution_count": null,
      "outputs": []
    },
    {
      "cell_type": "code",
      "source": [
        "# Maybe let's not fill with the random data.\n",
        "# How about we use the mean to use on the F column and median for E?\n",
        "# Let's do it in a copy\n",
        "df2 = df.copy()\n",
        "df2['E'].fillna(df2['E'].median().round(1), inplace=True)\n",
        "df2 # for E"
      ],
      "metadata": {
        "id": "RBy_GBeO0Uyr"
      },
      "execution_count": null,
      "outputs": []
    },
    {
      "cell_type": "code",
      "source": [
        "# and let's use different method to fill F with mean\n",
        "df2['F'].replace([np.nan], df2['F'].mean(), inplace=True)\n",
        "df2"
      ],
      "metadata": {
        "id": "Ub0QGfhM1I9j"
      },
      "execution_count": null,
      "outputs": []
    },
    {
      "cell_type": "code",
      "source": [
        "# At last, let's try interpolation\n",
        "df.interpolate(method ='linear', limit_direction ='backward', inplace=True)\n",
        "# similarely as with ffill and bfill, depending on the direction we might not catch \n",
        "# all the values at once\n",
        "df.interpolate(method ='linear', limit_direction ='forward', inplace=True)\n",
        "df"
      ],
      "metadata": {
        "id": "9aV7mDDK1w7x"
      },
      "execution_count": null,
      "outputs": []
    },
    {
      "cell_type": "markdown",
      "source": [
        "More on interpolation can be found [here](https://pandas.pydata.org/docs/reference/api/pandas.DataFrame.interpolate.html)."
      ],
      "metadata": {
        "id": "hFaA8Zki2T9B"
      }
    },
    {
      "cell_type": "markdown",
      "source": [
        "## 4. Detecting and dealing with outliers\n"
      ],
      "metadata": {
        "id": "QO3XNf_92WpM"
      }
    }
  ]
}