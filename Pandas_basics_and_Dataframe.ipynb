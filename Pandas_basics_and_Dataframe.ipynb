{
  "nbformat": 4,
  "nbformat_minor": 0,
  "metadata": {
    "colab": {
      "provenance": [],
      "authorship_tag": "ABX9TyOU2z4NmXNT1JRA6IfOJ7lN",
      "include_colab_link": true
    },
    "kernelspec": {
      "name": "python3",
      "display_name": "Python 3"
    },
    "language_info": {
      "name": "python"
    }
  },
  "cells": [
    {
      "cell_type": "markdown",
      "metadata": {
        "id": "view-in-github",
        "colab_type": "text"
      },
      "source": [
        "<a href=\"https://colab.research.google.com/github/miladziekanowska/Data_Analytics/blob/main/Pandas_basics_and_Dataframe.ipynb\" target=\"_parent\"><img src=\"https://colab.research.google.com/assets/colab-badge.svg\" alt=\"Open In Colab\"/></a>"
      ]
    },
    {
      "cell_type": "markdown",
      "source": [
        "# Pandas\n",
        "Pandas stands for *Python Data Analytics* and is one of the basic tools we will use for data analytics and data science. It is build on top of Numpy, therefore whenever we start working on a project that involves Pandas, we need to import Numpy as well.\n",
        "\n",
        "Pandas is mainly used for easy computing with:\n",
        "- tabular data;\n",
        "- time series;\n",
        "- matrices;\n",
        "- records and statistics.\n"
      ],
      "metadata": {
        "id": "MDGOHjeFogPK"
      }
    },
    {
      "cell_type": "code",
      "source": [
        "import pandas as pd\n",
        "import numpy as np"
      ],
      "metadata": {
        "id": "aOCwfddeKLV-"
      },
      "execution_count": 1,
      "outputs": []
    },
    {
      "cell_type": "markdown",
      "source": [
        "## Data structures in Pandas\n",
        "In Pandas we can differenciate two types of pandas-specific data structures. These would be:\n",
        "- Series - `pd.Series`, which are farely similar to lists, but optimized. These will often be our columns, in:\n",
        "- DataFrame - `pd.DataFrame`, which are presented as tabular data, similar to spreadsheets. The columns will contain\n"
      ],
      "metadata": {
        "id": "ZsqyeNurKOjg"
      }
    },
    {
      "cell_type": "code",
      "source": [
        "scores = pd.Series([25, 73, 94, 20]) # example of a Series\n",
        "scores"
      ],
      "metadata": {
        "colab": {
          "base_uri": "https://localhost:8080/"
        },
        "id": "auQP7P3MP1rK",
        "outputId": "9af8794b-d2c6-45fa-99ba-fa76903aee1a"
      },
      "execution_count": 87,
      "outputs": [
        {
          "output_type": "execute_result",
          "data": {
            "text/plain": [
              "0    25\n",
              "1    73\n",
              "2    94\n",
              "3    20\n",
              "dtype: int64"
            ]
          },
          "metadata": {},
          "execution_count": 87
        }
      ]
    },
    {
      "cell_type": "code",
      "source": [
        "type(scores) # using type we can check what we created"
      ],
      "metadata": {
        "colab": {
          "base_uri": "https://localhost:8080/"
        },
        "id": "-2_7PgnGP-JT",
        "outputId": "bf4949f2-f796-4d0a-9fff-902f847abe83"
      },
      "execution_count": 88,
      "outputs": [
        {
          "output_type": "execute_result",
          "data": {
            "text/plain": [
              "pandas.core.series.Series"
            ]
          },
          "metadata": {},
          "execution_count": 88
        }
      ]
    },
    {
      "cell_type": "code",
      "source": [
        "df = pd.DataFrame({'A' : [1, 2, 3],\n",
        "                   'B' : [4, 5, 6]})\n",
        "df # if we are working on one dataframe at a time, it's common to call it df and best practice is to include 'df' in the name always"
      ],
      "metadata": {
        "colab": {
          "base_uri": "https://localhost:8080/",
          "height": 142
        },
        "id": "-ixAmlwjQryC",
        "outputId": "7835ee9a-3004-4df1-eb3c-198ca07cdf4a"
      },
      "execution_count": 89,
      "outputs": [
        {
          "output_type": "execute_result",
          "data": {
            "text/plain": [
              "   A  B\n",
              "0  1  4\n",
              "1  2  5\n",
              "2  3  6"
            ],
            "text/html": [
              "\n",
              "  <div id=\"df-fad3affc-ef77-49ed-ab19-1eb3c53b0e3a\">\n",
              "    <div class=\"colab-df-container\">\n",
              "      <div>\n",
              "<style scoped>\n",
              "    .dataframe tbody tr th:only-of-type {\n",
              "        vertical-align: middle;\n",
              "    }\n",
              "\n",
              "    .dataframe tbody tr th {\n",
              "        vertical-align: top;\n",
              "    }\n",
              "\n",
              "    .dataframe thead th {\n",
              "        text-align: right;\n",
              "    }\n",
              "</style>\n",
              "<table border=\"1\" class=\"dataframe\">\n",
              "  <thead>\n",
              "    <tr style=\"text-align: right;\">\n",
              "      <th></th>\n",
              "      <th>A</th>\n",
              "      <th>B</th>\n",
              "    </tr>\n",
              "  </thead>\n",
              "  <tbody>\n",
              "    <tr>\n",
              "      <th>0</th>\n",
              "      <td>1</td>\n",
              "      <td>4</td>\n",
              "    </tr>\n",
              "    <tr>\n",
              "      <th>1</th>\n",
              "      <td>2</td>\n",
              "      <td>5</td>\n",
              "    </tr>\n",
              "    <tr>\n",
              "      <th>2</th>\n",
              "      <td>3</td>\n",
              "      <td>6</td>\n",
              "    </tr>\n",
              "  </tbody>\n",
              "</table>\n",
              "</div>\n",
              "      <button class=\"colab-df-convert\" onclick=\"convertToInteractive('df-fad3affc-ef77-49ed-ab19-1eb3c53b0e3a')\"\n",
              "              title=\"Convert this dataframe to an interactive table.\"\n",
              "              style=\"display:none;\">\n",
              "        \n",
              "  <svg xmlns=\"http://www.w3.org/2000/svg\" height=\"24px\"viewBox=\"0 0 24 24\"\n",
              "       width=\"24px\">\n",
              "    <path d=\"M0 0h24v24H0V0z\" fill=\"none\"/>\n",
              "    <path d=\"M18.56 5.44l.94 2.06.94-2.06 2.06-.94-2.06-.94-.94-2.06-.94 2.06-2.06.94zm-11 1L8.5 8.5l.94-2.06 2.06-.94-2.06-.94L8.5 2.5l-.94 2.06-2.06.94zm10 10l.94 2.06.94-2.06 2.06-.94-2.06-.94-.94-2.06-.94 2.06-2.06.94z\"/><path d=\"M17.41 7.96l-1.37-1.37c-.4-.4-.92-.59-1.43-.59-.52 0-1.04.2-1.43.59L10.3 9.45l-7.72 7.72c-.78.78-.78 2.05 0 2.83L4 21.41c.39.39.9.59 1.41.59.51 0 1.02-.2 1.41-.59l7.78-7.78 2.81-2.81c.8-.78.8-2.07 0-2.86zM5.41 20L4 18.59l7.72-7.72 1.47 1.35L5.41 20z\"/>\n",
              "  </svg>\n",
              "      </button>\n",
              "      \n",
              "  <style>\n",
              "    .colab-df-container {\n",
              "      display:flex;\n",
              "      flex-wrap:wrap;\n",
              "      gap: 12px;\n",
              "    }\n",
              "\n",
              "    .colab-df-convert {\n",
              "      background-color: #E8F0FE;\n",
              "      border: none;\n",
              "      border-radius: 50%;\n",
              "      cursor: pointer;\n",
              "      display: none;\n",
              "      fill: #1967D2;\n",
              "      height: 32px;\n",
              "      padding: 0 0 0 0;\n",
              "      width: 32px;\n",
              "    }\n",
              "\n",
              "    .colab-df-convert:hover {\n",
              "      background-color: #E2EBFA;\n",
              "      box-shadow: 0px 1px 2px rgba(60, 64, 67, 0.3), 0px 1px 3px 1px rgba(60, 64, 67, 0.15);\n",
              "      fill: #174EA6;\n",
              "    }\n",
              "\n",
              "    [theme=dark] .colab-df-convert {\n",
              "      background-color: #3B4455;\n",
              "      fill: #D2E3FC;\n",
              "    }\n",
              "\n",
              "    [theme=dark] .colab-df-convert:hover {\n",
              "      background-color: #434B5C;\n",
              "      box-shadow: 0px 1px 3px 1px rgba(0, 0, 0, 0.15);\n",
              "      filter: drop-shadow(0px 1px 2px rgba(0, 0, 0, 0.3));\n",
              "      fill: #FFFFFF;\n",
              "    }\n",
              "  </style>\n",
              "\n",
              "      <script>\n",
              "        const buttonEl =\n",
              "          document.querySelector('#df-fad3affc-ef77-49ed-ab19-1eb3c53b0e3a button.colab-df-convert');\n",
              "        buttonEl.style.display =\n",
              "          google.colab.kernel.accessAllowed ? 'block' : 'none';\n",
              "\n",
              "        async function convertToInteractive(key) {\n",
              "          const element = document.querySelector('#df-fad3affc-ef77-49ed-ab19-1eb3c53b0e3a');\n",
              "          const dataTable =\n",
              "            await google.colab.kernel.invokeFunction('convertToInteractive',\n",
              "                                                     [key], {});\n",
              "          if (!dataTable) return;\n",
              "\n",
              "          const docLinkHtml = 'Like what you see? Visit the ' +\n",
              "            '<a target=\"_blank\" href=https://colab.research.google.com/notebooks/data_table.ipynb>data table notebook</a>'\n",
              "            + ' to learn more about interactive tables.';\n",
              "          element.innerHTML = '';\n",
              "          dataTable['output_type'] = 'display_data';\n",
              "          await google.colab.output.renderOutput(dataTable, element);\n",
              "          const docLink = document.createElement('div');\n",
              "          docLink.innerHTML = docLinkHtml;\n",
              "          element.appendChild(docLink);\n",
              "        }\n",
              "      </script>\n",
              "    </div>\n",
              "  </div>\n",
              "  "
            ]
          },
          "metadata": {},
          "execution_count": 89
        }
      ]
    },
    {
      "cell_type": "code",
      "source": [
        "type(df)"
      ],
      "metadata": {
        "colab": {
          "base_uri": "https://localhost:8080/"
        },
        "id": "9EnVdEfYQtCS",
        "outputId": "ba31fe51-9a7e-4f4c-f5a2-0c8a2bcafd23"
      },
      "execution_count": 90,
      "outputs": [
        {
          "output_type": "execute_result",
          "data": {
            "text/plain": [
              "pandas.core.frame.DataFrame"
            ]
          },
          "metadata": {},
          "execution_count": 90
        }
      ]
    },
    {
      "cell_type": "markdown",
      "source": [
        "Let's create a random data frame and see what we can do with is. Most often we will create dfs from files (csv, json, xml, etc.)."
      ],
      "metadata": {
        "id": "ewobrIe3Qvf-"
      }
    },
    {
      "cell_type": "code",
      "source": [
        "# DataFrame is always two dimentional, just like a matrix. \n",
        "# When we are creating one from scrach, shape does not have to be specify in every column, just like in columns 'A' and 'F'\n",
        "df = pd.DataFrame({\n",
        "                    'A': 1.,\n",
        "                    'B': pd.Timestamp('20130102'),\n",
        "                    'C': pd.Series(1, index=list(range(4)), dtype='float32'),\n",
        "                    'D': np.array([3] * 4, dtype='int32'),\n",
        "                    'E': pd.Categorical([\"test\", \"train\", \"test\", \"train\"]),\n",
        "                    'F': 'foo',\n",
        "                    'G' : [False, True,True,False]\n",
        "                   })\n",
        "df"
      ],
      "metadata": {
        "colab": {
          "base_uri": "https://localhost:8080/",
          "height": 173
        },
        "id": "X5mGhvpORmpt",
        "outputId": "dd2f6a68-906b-445f-9413-de37683ea393"
      },
      "execution_count": 91,
      "outputs": [
        {
          "output_type": "execute_result",
          "data": {
            "text/plain": [
              "     A          B    C  D      E    F      G\n",
              "0  1.0 2013-01-02  1.0  3   test  foo  False\n",
              "1  1.0 2013-01-02  1.0  3  train  foo   True\n",
              "2  1.0 2013-01-02  1.0  3   test  foo   True\n",
              "3  1.0 2013-01-02  1.0  3  train  foo  False"
            ],
            "text/html": [
              "\n",
              "  <div id=\"df-0acc5bc3-a1bc-419b-b8a7-3adbbb7c99b9\">\n",
              "    <div class=\"colab-df-container\">\n",
              "      <div>\n",
              "<style scoped>\n",
              "    .dataframe tbody tr th:only-of-type {\n",
              "        vertical-align: middle;\n",
              "    }\n",
              "\n",
              "    .dataframe tbody tr th {\n",
              "        vertical-align: top;\n",
              "    }\n",
              "\n",
              "    .dataframe thead th {\n",
              "        text-align: right;\n",
              "    }\n",
              "</style>\n",
              "<table border=\"1\" class=\"dataframe\">\n",
              "  <thead>\n",
              "    <tr style=\"text-align: right;\">\n",
              "      <th></th>\n",
              "      <th>A</th>\n",
              "      <th>B</th>\n",
              "      <th>C</th>\n",
              "      <th>D</th>\n",
              "      <th>E</th>\n",
              "      <th>F</th>\n",
              "      <th>G</th>\n",
              "    </tr>\n",
              "  </thead>\n",
              "  <tbody>\n",
              "    <tr>\n",
              "      <th>0</th>\n",
              "      <td>1.0</td>\n",
              "      <td>2013-01-02</td>\n",
              "      <td>1.0</td>\n",
              "      <td>3</td>\n",
              "      <td>test</td>\n",
              "      <td>foo</td>\n",
              "      <td>False</td>\n",
              "    </tr>\n",
              "    <tr>\n",
              "      <th>1</th>\n",
              "      <td>1.0</td>\n",
              "      <td>2013-01-02</td>\n",
              "      <td>1.0</td>\n",
              "      <td>3</td>\n",
              "      <td>train</td>\n",
              "      <td>foo</td>\n",
              "      <td>True</td>\n",
              "    </tr>\n",
              "    <tr>\n",
              "      <th>2</th>\n",
              "      <td>1.0</td>\n",
              "      <td>2013-01-02</td>\n",
              "      <td>1.0</td>\n",
              "      <td>3</td>\n",
              "      <td>test</td>\n",
              "      <td>foo</td>\n",
              "      <td>True</td>\n",
              "    </tr>\n",
              "    <tr>\n",
              "      <th>3</th>\n",
              "      <td>1.0</td>\n",
              "      <td>2013-01-02</td>\n",
              "      <td>1.0</td>\n",
              "      <td>3</td>\n",
              "      <td>train</td>\n",
              "      <td>foo</td>\n",
              "      <td>False</td>\n",
              "    </tr>\n",
              "  </tbody>\n",
              "</table>\n",
              "</div>\n",
              "      <button class=\"colab-df-convert\" onclick=\"convertToInteractive('df-0acc5bc3-a1bc-419b-b8a7-3adbbb7c99b9')\"\n",
              "              title=\"Convert this dataframe to an interactive table.\"\n",
              "              style=\"display:none;\">\n",
              "        \n",
              "  <svg xmlns=\"http://www.w3.org/2000/svg\" height=\"24px\"viewBox=\"0 0 24 24\"\n",
              "       width=\"24px\">\n",
              "    <path d=\"M0 0h24v24H0V0z\" fill=\"none\"/>\n",
              "    <path d=\"M18.56 5.44l.94 2.06.94-2.06 2.06-.94-2.06-.94-.94-2.06-.94 2.06-2.06.94zm-11 1L8.5 8.5l.94-2.06 2.06-.94-2.06-.94L8.5 2.5l-.94 2.06-2.06.94zm10 10l.94 2.06.94-2.06 2.06-.94-2.06-.94-.94-2.06-.94 2.06-2.06.94z\"/><path d=\"M17.41 7.96l-1.37-1.37c-.4-.4-.92-.59-1.43-.59-.52 0-1.04.2-1.43.59L10.3 9.45l-7.72 7.72c-.78.78-.78 2.05 0 2.83L4 21.41c.39.39.9.59 1.41.59.51 0 1.02-.2 1.41-.59l7.78-7.78 2.81-2.81c.8-.78.8-2.07 0-2.86zM5.41 20L4 18.59l7.72-7.72 1.47 1.35L5.41 20z\"/>\n",
              "  </svg>\n",
              "      </button>\n",
              "      \n",
              "  <style>\n",
              "    .colab-df-container {\n",
              "      display:flex;\n",
              "      flex-wrap:wrap;\n",
              "      gap: 12px;\n",
              "    }\n",
              "\n",
              "    .colab-df-convert {\n",
              "      background-color: #E8F0FE;\n",
              "      border: none;\n",
              "      border-radius: 50%;\n",
              "      cursor: pointer;\n",
              "      display: none;\n",
              "      fill: #1967D2;\n",
              "      height: 32px;\n",
              "      padding: 0 0 0 0;\n",
              "      width: 32px;\n",
              "    }\n",
              "\n",
              "    .colab-df-convert:hover {\n",
              "      background-color: #E2EBFA;\n",
              "      box-shadow: 0px 1px 2px rgba(60, 64, 67, 0.3), 0px 1px 3px 1px rgba(60, 64, 67, 0.15);\n",
              "      fill: #174EA6;\n",
              "    }\n",
              "\n",
              "    [theme=dark] .colab-df-convert {\n",
              "      background-color: #3B4455;\n",
              "      fill: #D2E3FC;\n",
              "    }\n",
              "\n",
              "    [theme=dark] .colab-df-convert:hover {\n",
              "      background-color: #434B5C;\n",
              "      box-shadow: 0px 1px 3px 1px rgba(0, 0, 0, 0.15);\n",
              "      filter: drop-shadow(0px 1px 2px rgba(0, 0, 0, 0.3));\n",
              "      fill: #FFFFFF;\n",
              "    }\n",
              "  </style>\n",
              "\n",
              "      <script>\n",
              "        const buttonEl =\n",
              "          document.querySelector('#df-0acc5bc3-a1bc-419b-b8a7-3adbbb7c99b9 button.colab-df-convert');\n",
              "        buttonEl.style.display =\n",
              "          google.colab.kernel.accessAllowed ? 'block' : 'none';\n",
              "\n",
              "        async function convertToInteractive(key) {\n",
              "          const element = document.querySelector('#df-0acc5bc3-a1bc-419b-b8a7-3adbbb7c99b9');\n",
              "          const dataTable =\n",
              "            await google.colab.kernel.invokeFunction('convertToInteractive',\n",
              "                                                     [key], {});\n",
              "          if (!dataTable) return;\n",
              "\n",
              "          const docLinkHtml = 'Like what you see? Visit the ' +\n",
              "            '<a target=\"_blank\" href=https://colab.research.google.com/notebooks/data_table.ipynb>data table notebook</a>'\n",
              "            + ' to learn more about interactive tables.';\n",
              "          element.innerHTML = '';\n",
              "          dataTable['output_type'] = 'display_data';\n",
              "          await google.colab.output.renderOutput(dataTable, element);\n",
              "          const docLink = document.createElement('div');\n",
              "          docLink.innerHTML = docLinkHtml;\n",
              "          element.appendChild(docLink);\n",
              "        }\n",
              "      </script>\n",
              "    </div>\n",
              "  </div>\n",
              "  "
            ]
          },
          "metadata": {},
          "execution_count": 91
        }
      ]
    },
    {
      "cell_type": "code",
      "source": [
        "# DataFrames are a special type of class in Pandas. Therefore they have some special methods within them and we do not need to call for functions as much.\n",
        "df.info() # with this method we are getting information about all the columns (Series) in our DataFrame"
      ],
      "metadata": {
        "colab": {
          "base_uri": "https://localhost:8080/"
        },
        "id": "vwGsE_4-SRWO",
        "outputId": "64f6d33b-0076-4eff-8577-dc52d0868209"
      },
      "execution_count": 92,
      "outputs": [
        {
          "output_type": "stream",
          "name": "stdout",
          "text": [
            "<class 'pandas.core.frame.DataFrame'>\n",
            "Int64Index: 4 entries, 0 to 3\n",
            "Data columns (total 7 columns):\n",
            " #   Column  Non-Null Count  Dtype         \n",
            "---  ------  --------------  -----         \n",
            " 0   A       4 non-null      float64       \n",
            " 1   B       4 non-null      datetime64[ns]\n",
            " 2   C       4 non-null      float32       \n",
            " 3   D       4 non-null      int32         \n",
            " 4   E       4 non-null      category      \n",
            " 5   F       4 non-null      object        \n",
            " 6   G       4 non-null      bool          \n",
            "dtypes: bool(1), category(1), datetime64[ns](1), float32(1), float64(1), int32(1), object(1)\n",
            "memory usage: 292.0+ bytes\n"
          ]
        }
      ]
    },
    {
      "cell_type": "markdown",
      "source": [
        "The `df.info()` will give us information on all columns and their data types, as well as the quantity of non-null (or, in numpy and pandas, not NaN) values. \n",
        "\n",
        "This is very useful, when we are starting our analysis, for a number of reasons:\n",
        "1. Null/NaN values might throw off our analysis;\n",
        "2. If a column contains many Null/NaN values, perhaps we cannot use it for our analysis or need to contact our client/data bank, we might also think of a way to fill the Nulls/NaNs;\n",
        "3. With some data types we need to work differently;\n",
        "4. With non-numeric data types we might want to split them, take somethin out, etc.;\n",
        "5. For more advanced analysis and ML, we might want to transform the non-numeric data into numeric data."
      ],
      "metadata": {
        "id": "QLLQ1XbzSwpA"
      }
    },
    {
      "cell_type": "code",
      "source": [
        "df.shape # same as with numpy, this will show us shape"
      ],
      "metadata": {
        "colab": {
          "base_uri": "https://localhost:8080/"
        },
        "id": "2IevGzWUYxcC",
        "outputId": "5b9970cc-8bf4-41d4-e85b-86437bb5bdae"
      },
      "execution_count": 93,
      "outputs": [
        {
          "output_type": "execute_result",
          "data": {
            "text/plain": [
              "(4, 7)"
            ]
          },
          "metadata": {},
          "execution_count": 93
        }
      ]
    },
    {
      "cell_type": "code",
      "source": [
        "df.size # and size"
      ],
      "metadata": {
        "colab": {
          "base_uri": "https://localhost:8080/"
        },
        "id": "D_gJTpNaY4U1",
        "outputId": "1f7f7ca6-f479-4e99-d95e-c9ccf1057c38"
      },
      "execution_count": 94,
      "outputs": [
        {
          "output_type": "execute_result",
          "data": {
            "text/plain": [
              "28"
            ]
          },
          "metadata": {},
          "execution_count": 94
        }
      ]
    },
    {
      "cell_type": "code",
      "source": [
        "df.columns # this will show us all the column names"
      ],
      "metadata": {
        "colab": {
          "base_uri": "https://localhost:8080/"
        },
        "id": "SAV0JCiJYhRT",
        "outputId": "7a5b238e-1d98-49fd-bf3d-bfb09fa9062d"
      },
      "execution_count": 95,
      "outputs": [
        {
          "output_type": "execute_result",
          "data": {
            "text/plain": [
              "Index(['A', 'B', 'C', 'D', 'E', 'F', 'G'], dtype='object')"
            ]
          },
          "metadata": {},
          "execution_count": 95
        }
      ]
    },
    {
      "cell_type": "code",
      "source": [
        "df.index # and this will show us available index"
      ],
      "metadata": {
        "colab": {
          "base_uri": "https://localhost:8080/"
        },
        "id": "dNHL8jfgZOpp",
        "outputId": "87c66800-30c8-4cf2-a3b9-622a456ca610"
      },
      "execution_count": 96,
      "outputs": [
        {
          "output_type": "execute_result",
          "data": {
            "text/plain": [
              "Int64Index([0, 1, 2, 3], dtype='int64')"
            ]
          },
          "metadata": {},
          "execution_count": 96
        }
      ]
    },
    {
      "cell_type": "code",
      "source": [
        "df.values # and values"
      ],
      "metadata": {
        "colab": {
          "base_uri": "https://localhost:8080/"
        },
        "id": "PqGY168zZVuf",
        "outputId": "cf59fa27-e895-4bfd-bcc1-1952ee424ea4"
      },
      "execution_count": 97,
      "outputs": [
        {
          "output_type": "execute_result",
          "data": {
            "text/plain": [
              "array([[1.0, Timestamp('2013-01-02 00:00:00'), 1.0, 3, 'test', 'foo',\n",
              "        False],\n",
              "       [1.0, Timestamp('2013-01-02 00:00:00'), 1.0, 3, 'train', 'foo',\n",
              "        True],\n",
              "       [1.0, Timestamp('2013-01-02 00:00:00'), 1.0, 3, 'test', 'foo',\n",
              "        True],\n",
              "       [1.0, Timestamp('2013-01-02 00:00:00'), 1.0, 3, 'train', 'foo',\n",
              "        False]], dtype=object)"
            ]
          },
          "metadata": {},
          "execution_count": 97
        }
      ]
    },
    {
      "cell_type": "markdown",
      "source": [
        "## Importing a cvs file\n",
        "Let's work on a mock-life example of a data frame. First for that, we need to import the file. With virtual environments like Google Collab or Jupyter Notebook we need to remember to provide the right path to the file then we are importing (as always, but it's slightly different)."
      ],
      "metadata": {
        "id": "XFPEaQ__U9SB"
      }
    },
    {
      "cell_type": "code",
      "source": [
        "sales_df = pd.read_csv('dane_sprzedaz.csv', sep=',', encoding='utf-8')\n",
        "sales_df"
      ],
      "metadata": {
        "id": "cv-20ZQKVIVF"
      },
      "execution_count": null,
      "outputs": []
    },
    {
      "cell_type": "code",
      "source": [
        "# let's see how the data looks in here\n",
        "sales_df.info()"
      ],
      "metadata": {
        "id": "8y6RqutaV2r2"
      },
      "execution_count": null,
      "outputs": []
    },
    {
      "cell_type": "markdown",
      "source": [
        "As we can see, in the column named 'SPRZ_NETTO' we have two NaN values, but we will get to that later.\n",
        "\n",
        "Let's try some of the methods we can use on a DataFrame."
      ],
      "metadata": {
        "id": "W8Z_F886V8Yp"
      }
    },
    {
      "cell_type": "code",
      "source": [
        "# There are methods that will show us a given number of rows in a few manners\n",
        "sales_df.head(5) # .head() gives us the first n rows"
      ],
      "metadata": {
        "id": "976szowlWMtT"
      },
      "execution_count": null,
      "outputs": []
    },
    {
      "cell_type": "code",
      "source": [
        "sales_df.tail(5) # .tail() will give us the last n rows"
      ],
      "metadata": {
        "id": "qlizML-NWhmm"
      },
      "execution_count": null,
      "outputs": []
    },
    {
      "cell_type": "code",
      "source": [
        "sales_df.sample(5) # .sample () will give us random n rows from the DataFrame. This is good to have a glimse, but not best practice for sampling"
      ],
      "metadata": {
        "id": "aZOz30SnWp6M"
      },
      "execution_count": null,
      "outputs": []
    },
    {
      "cell_type": "markdown",
      "source": [
        "### Indexing and slicing \n",
        "Indexing and slicing in DataFrames is a mix of Numpy Matrices and Dictionaries. The way is similar and the indexes we call are usually in columns (sometimes with some conditions as filtering). \n"
      ],
      "metadata": {
        "id": "--fkYO3nWzaO"
      }
    },
    {
      "cell_type": "code",
      "source": [
        "sales_df.SKL_ID # this way we can get the whole column as a Series\n",
        "#OR sales_df(['SKL_ID']) to display as DataFrame"
      ],
      "metadata": {
        "colab": {
          "base_uri": "https://localhost:8080/"
        },
        "id": "cchBEFilX-ez",
        "outputId": "fc29a6a9-07da-48ff-fd18-51ba8f09df36"
      },
      "execution_count": 100,
      "outputs": [
        {
          "output_type": "execute_result",
          "data": {
            "text/plain": [
              "0      1\n",
              "1      1\n",
              "2      1\n",
              "3      1\n",
              "4      1\n",
              "      ..\n",
              "130    3\n",
              "131    3\n",
              "132    3\n",
              "133    3\n",
              "134    3\n",
              "Name: SKL_ID, Length: 135, dtype: int64"
            ]
          },
          "metadata": {},
          "execution_count": 100
        }
      ]
    },
    {
      "cell_type": "code",
      "source": [
        "sales_df[['DZIEN_DATA', 'TOW_ID']] #this way we can call for more than one column"
      ],
      "metadata": {
        "colab": {
          "base_uri": "https://localhost:8080/",
          "height": 419
        },
        "id": "HJaAVTVwYBiR",
        "outputId": "3776f1e4-1a95-4a88-a514-bee3be7e2e0e"
      },
      "execution_count": 101,
      "outputs": [
        {
          "output_type": "execute_result",
          "data": {
            "text/plain": [
              "     DZIEN_DATA  TOW_ID\n",
              "0    01.05.2022       1\n",
              "1    02.05.2022       1\n",
              "2    03.05.2022       1\n",
              "3    04.05.2022       1\n",
              "4    05.05.2022       1\n",
              "..          ...     ...\n",
              "130  11.05.2022       3\n",
              "131  12.05.2022       3\n",
              "132  13.05.2022       3\n",
              "133  14.05.2022       3\n",
              "134  15.05.2022       3\n",
              "\n",
              "[135 rows x 2 columns]"
            ],
            "text/html": [
              "\n",
              "  <div id=\"df-cf072415-d54a-402e-8a94-0e8844e2bb8c\">\n",
              "    <div class=\"colab-df-container\">\n",
              "      <div>\n",
              "<style scoped>\n",
              "    .dataframe tbody tr th:only-of-type {\n",
              "        vertical-align: middle;\n",
              "    }\n",
              "\n",
              "    .dataframe tbody tr th {\n",
              "        vertical-align: top;\n",
              "    }\n",
              "\n",
              "    .dataframe thead th {\n",
              "        text-align: right;\n",
              "    }\n",
              "</style>\n",
              "<table border=\"1\" class=\"dataframe\">\n",
              "  <thead>\n",
              "    <tr style=\"text-align: right;\">\n",
              "      <th></th>\n",
              "      <th>DZIEN_DATA</th>\n",
              "      <th>TOW_ID</th>\n",
              "    </tr>\n",
              "  </thead>\n",
              "  <tbody>\n",
              "    <tr>\n",
              "      <th>0</th>\n",
              "      <td>01.05.2022</td>\n",
              "      <td>1</td>\n",
              "    </tr>\n",
              "    <tr>\n",
              "      <th>1</th>\n",
              "      <td>02.05.2022</td>\n",
              "      <td>1</td>\n",
              "    </tr>\n",
              "    <tr>\n",
              "      <th>2</th>\n",
              "      <td>03.05.2022</td>\n",
              "      <td>1</td>\n",
              "    </tr>\n",
              "    <tr>\n",
              "      <th>3</th>\n",
              "      <td>04.05.2022</td>\n",
              "      <td>1</td>\n",
              "    </tr>\n",
              "    <tr>\n",
              "      <th>4</th>\n",
              "      <td>05.05.2022</td>\n",
              "      <td>1</td>\n",
              "    </tr>\n",
              "    <tr>\n",
              "      <th>...</th>\n",
              "      <td>...</td>\n",
              "      <td>...</td>\n",
              "    </tr>\n",
              "    <tr>\n",
              "      <th>130</th>\n",
              "      <td>11.05.2022</td>\n",
              "      <td>3</td>\n",
              "    </tr>\n",
              "    <tr>\n",
              "      <th>131</th>\n",
              "      <td>12.05.2022</td>\n",
              "      <td>3</td>\n",
              "    </tr>\n",
              "    <tr>\n",
              "      <th>132</th>\n",
              "      <td>13.05.2022</td>\n",
              "      <td>3</td>\n",
              "    </tr>\n",
              "    <tr>\n",
              "      <th>133</th>\n",
              "      <td>14.05.2022</td>\n",
              "      <td>3</td>\n",
              "    </tr>\n",
              "    <tr>\n",
              "      <th>134</th>\n",
              "      <td>15.05.2022</td>\n",
              "      <td>3</td>\n",
              "    </tr>\n",
              "  </tbody>\n",
              "</table>\n",
              "<p>135 rows × 2 columns</p>\n",
              "</div>\n",
              "      <button class=\"colab-df-convert\" onclick=\"convertToInteractive('df-cf072415-d54a-402e-8a94-0e8844e2bb8c')\"\n",
              "              title=\"Convert this dataframe to an interactive table.\"\n",
              "              style=\"display:none;\">\n",
              "        \n",
              "  <svg xmlns=\"http://www.w3.org/2000/svg\" height=\"24px\"viewBox=\"0 0 24 24\"\n",
              "       width=\"24px\">\n",
              "    <path d=\"M0 0h24v24H0V0z\" fill=\"none\"/>\n",
              "    <path d=\"M18.56 5.44l.94 2.06.94-2.06 2.06-.94-2.06-.94-.94-2.06-.94 2.06-2.06.94zm-11 1L8.5 8.5l.94-2.06 2.06-.94-2.06-.94L8.5 2.5l-.94 2.06-2.06.94zm10 10l.94 2.06.94-2.06 2.06-.94-2.06-.94-.94-2.06-.94 2.06-2.06.94z\"/><path d=\"M17.41 7.96l-1.37-1.37c-.4-.4-.92-.59-1.43-.59-.52 0-1.04.2-1.43.59L10.3 9.45l-7.72 7.72c-.78.78-.78 2.05 0 2.83L4 21.41c.39.39.9.59 1.41.59.51 0 1.02-.2 1.41-.59l7.78-7.78 2.81-2.81c.8-.78.8-2.07 0-2.86zM5.41 20L4 18.59l7.72-7.72 1.47 1.35L5.41 20z\"/>\n",
              "  </svg>\n",
              "      </button>\n",
              "      \n",
              "  <style>\n",
              "    .colab-df-container {\n",
              "      display:flex;\n",
              "      flex-wrap:wrap;\n",
              "      gap: 12px;\n",
              "    }\n",
              "\n",
              "    .colab-df-convert {\n",
              "      background-color: #E8F0FE;\n",
              "      border: none;\n",
              "      border-radius: 50%;\n",
              "      cursor: pointer;\n",
              "      display: none;\n",
              "      fill: #1967D2;\n",
              "      height: 32px;\n",
              "      padding: 0 0 0 0;\n",
              "      width: 32px;\n",
              "    }\n",
              "\n",
              "    .colab-df-convert:hover {\n",
              "      background-color: #E2EBFA;\n",
              "      box-shadow: 0px 1px 2px rgba(60, 64, 67, 0.3), 0px 1px 3px 1px rgba(60, 64, 67, 0.15);\n",
              "      fill: #174EA6;\n",
              "    }\n",
              "\n",
              "    [theme=dark] .colab-df-convert {\n",
              "      background-color: #3B4455;\n",
              "      fill: #D2E3FC;\n",
              "    }\n",
              "\n",
              "    [theme=dark] .colab-df-convert:hover {\n",
              "      background-color: #434B5C;\n",
              "      box-shadow: 0px 1px 3px 1px rgba(0, 0, 0, 0.15);\n",
              "      filter: drop-shadow(0px 1px 2px rgba(0, 0, 0, 0.3));\n",
              "      fill: #FFFFFF;\n",
              "    }\n",
              "  </style>\n",
              "\n",
              "      <script>\n",
              "        const buttonEl =\n",
              "          document.querySelector('#df-cf072415-d54a-402e-8a94-0e8844e2bb8c button.colab-df-convert');\n",
              "        buttonEl.style.display =\n",
              "          google.colab.kernel.accessAllowed ? 'block' : 'none';\n",
              "\n",
              "        async function convertToInteractive(key) {\n",
              "          const element = document.querySelector('#df-cf072415-d54a-402e-8a94-0e8844e2bb8c');\n",
              "          const dataTable =\n",
              "            await google.colab.kernel.invokeFunction('convertToInteractive',\n",
              "                                                     [key], {});\n",
              "          if (!dataTable) return;\n",
              "\n",
              "          const docLinkHtml = 'Like what you see? Visit the ' +\n",
              "            '<a target=\"_blank\" href=https://colab.research.google.com/notebooks/data_table.ipynb>data table notebook</a>'\n",
              "            + ' to learn more about interactive tables.';\n",
              "          element.innerHTML = '';\n",
              "          dataTable['output_type'] = 'display_data';\n",
              "          await google.colab.output.renderOutput(dataTable, element);\n",
              "          const docLink = document.createElement('div');\n",
              "          docLink.innerHTML = docLinkHtml;\n",
              "          element.appendChild(docLink);\n",
              "        }\n",
              "      </script>\n",
              "    </div>\n",
              "  </div>\n",
              "  "
            ]
          },
          "metadata": {},
          "execution_count": 101
        }
      ]
    },
    {
      "cell_type": "markdown",
      "source": [
        "### .iloc and .loc\n",
        "These two methods allow us to slice through the DataFrame in two different ways. Both are useful (.iloc is more often used) for different tasks.\n",
        "\n",
        "`.iloc` will look at the index given the position in the DataFrame;\n",
        "\n",
        "`.loc` will look at the index as the given position."
      ],
      "metadata": {
        "id": "ONh51BqLZev1"
      }
    },
    {
      "cell_type": "code",
      "source": [
        "# for this example let's use a new dataframe to better see the difference\n",
        "b = pd.Series(np.round(np.random.uniform(0,1,10),2))\n",
        "i = np.r_[0:10]\n",
        "np.random.shuffle(i)\n",
        "b.index = i\n",
        "b"
      ],
      "metadata": {
        "colab": {
          "base_uri": "https://localhost:8080/"
        },
        "id": "GY5nnQMja6Z8",
        "outputId": "675a2b96-e1d1-4d2d-e863-043ad043ed4a"
      },
      "execution_count": 124,
      "outputs": [
        {
          "output_type": "execute_result",
          "data": {
            "text/plain": [
              "1    0.83\n",
              "8    0.12\n",
              "6    0.84\n",
              "9    0.75\n",
              "5    0.47\n",
              "2    0.80\n",
              "7    0.60\n",
              "4    0.65\n",
              "0    0.05\n",
              "3    0.93\n",
              "dtype: float64"
            ]
          },
          "metadata": {},
          "execution_count": 124
        }
      ]
    },
    {
      "cell_type": "code",
      "source": [
        "b.iloc[2] # it will give us the third value in the overall table"
      ],
      "metadata": {
        "colab": {
          "base_uri": "https://localhost:8080/"
        },
        "id": "JrK8t2kDbKcR",
        "outputId": "f8786b8e-acf0-41ac-8ee4-d58c884f47f6"
      },
      "execution_count": 125,
      "outputs": [
        {
          "output_type": "execute_result",
          "data": {
            "text/plain": [
              "0.84"
            ]
          },
          "metadata": {},
          "execution_count": 125
        }
      ]
    },
    {
      "cell_type": "code",
      "source": [
        "b.loc[2] # this will give us the value with the index '2'"
      ],
      "metadata": {
        "colab": {
          "base_uri": "https://localhost:8080/"
        },
        "id": "VZ8zIy2CbT1c",
        "outputId": "62afe406-7b6d-4fc7-d1f7-c99644a06e86"
      },
      "execution_count": 126,
      "outputs": [
        {
          "output_type": "execute_result",
          "data": {
            "text/plain": [
              "0.8"
            ]
          },
          "metadata": {},
          "execution_count": 126
        }
      ]
    },
    {
      "cell_type": "code",
      "source": [
        "b.iloc[2:8]"
      ],
      "metadata": {
        "colab": {
          "base_uri": "https://localhost:8080/"
        },
        "id": "OavHLZbjbc7q",
        "outputId": "09803ee5-36c9-40ff-c607-d2f721e99d55"
      },
      "execution_count": 127,
      "outputs": [
        {
          "output_type": "execute_result",
          "data": {
            "text/plain": [
              "6    0.84\n",
              "9    0.75\n",
              "5    0.47\n",
              "2    0.80\n",
              "7    0.60\n",
              "4    0.65\n",
              "dtype: float64"
            ]
          },
          "metadata": {},
          "execution_count": 127
        }
      ]
    },
    {
      "cell_type": "code",
      "source": [
        "b.loc[2:8] # if the first index (2) appears later in the data frame than the second (8), with loc we will receive an empty series or df"
      ],
      "metadata": {
        "colab": {
          "base_uri": "https://localhost:8080/"
        },
        "id": "obcZJzJhcS1j",
        "outputId": "cd0c26e8-aa29-4dfd-840e-af7fb6847efa"
      },
      "execution_count": 128,
      "outputs": [
        {
          "output_type": "execute_result",
          "data": {
            "text/plain": [
              "Series([], dtype: float64)"
            ]
          },
          "metadata": {},
          "execution_count": 128
        }
      ]
    },
    {
      "cell_type": "markdown",
      "source": [
        "Let's try it out on our sales_df. It is organized and indexed with ascending numbers so .loc and .iloc will work the same.\n"
      ],
      "metadata": {
        "id": "e1rEBQmNcVlP"
      }
    },
    {
      "cell_type": "code",
      "source": [
        "sales_df.iloc[0]"
      ],
      "metadata": {
        "colab": {
          "base_uri": "https://localhost:8080/"
        },
        "id": "dXMJYlLUc8C5",
        "outputId": "454e4028-511f-4049-cb99-d70695d16677"
      },
      "execution_count": 129,
      "outputs": [
        {
          "output_type": "execute_result",
          "data": {
            "text/plain": [
              "DZIEN_DATA      01.05.2022\n",
              "SKL_ID                   1\n",
              "TOW_ID                   1\n",
              "SPRZ_NETTO           416.0\n",
              "ZYSK_PROCENT             9\n",
              "ZYSK_WART            37,44\n",
              "Name: 0, dtype: object"
            ]
          },
          "metadata": {},
          "execution_count": 129
        }
      ]
    },
    {
      "cell_type": "markdown",
      "source": [
        "## Sorting and conditionals\n",
        "\n",
        "\n"
      ],
      "metadata": {
        "id": "7ToTMtAVgIt8"
      }
    },
    {
      "cell_type": "code",
      "source": [
        "sales_df.sort_values(by='SKL_ID', ascending=False) \n",
        "# using sort_values(by=\"column_name\") we sort with the column and with ascending=False, it's descending"
      ],
      "metadata": {
        "id": "55liOljFgCHz"
      },
      "execution_count": null,
      "outputs": []
    },
    {
      "cell_type": "code",
      "source": [
        "sales_df[sales_df['SKL_ID'] == 1] # we can filter with one condition"
      ],
      "metadata": {
        "id": "-VBT0VEbkbgz"
      },
      "execution_count": null,
      "outputs": []
    },
    {
      "cell_type": "code",
      "source": [
        "sales_df[(sales_df['SKL_ID'] == 2) & (sales_df['TOW_ID'] == 3)] # or we can use more"
      ],
      "metadata": {
        "id": "meatyhf_knqH"
      },
      "execution_count": null,
      "outputs": []
    },
    {
      "cell_type": "markdown",
      "source": [
        "In Numpy and Pandas we will use different notation for logical operators:\n",
        "- **&** as AND\n",
        "- **|** as OR\n",
        "- **~** as NOT (as the begining of the condition)"
      ],
      "metadata": {
        "id": "NDR6W1uRrFbc"
      }
    },
    {
      "cell_type": "code",
      "source": [
        "# .isin() method is good for string or object values, but can be used on any non-discrete values\n",
        "sales_df[sales_df['SPRZ_NETTO'].isin(range(340, 380))]"
      ],
      "metadata": {
        "id": "HokNKO5g6fau"
      },
      "execution_count": null,
      "outputs": []
    },
    {
      "cell_type": "code",
      "source": [],
      "metadata": {
        "id": "m56D0EBT7SMY"
      },
      "execution_count": null,
      "outputs": []
    },
    {
      "cell_type": "markdown",
      "source": [
        "### Other tricks\n",
        "In other words, anything I can't put in a distinguished label.\n"
      ],
      "metadata": {
        "id": "MME630iNr8aK"
      }
    },
    {
      "cell_type": "code",
      "source": [
        "# Transposition -> if we want to flip the DataFrame so the rows become columns and colums become rows\n",
        "sales_df.T"
      ],
      "metadata": {
        "id": "X0GDGf1dyE0_"
      },
      "execution_count": null,
      "outputs": []
    },
    {
      "cell_type": "code",
      "source": [
        "# Reseting the index\n",
        "# If we don't like the way the DataFrame is indexed, or we want to use the current \n",
        "# index as another column, we can use .reset_index() and it will create a new index from 0 to the number of values (ordered)\n",
        "b.reset_index() # if we add drop=True in the brackets, the past index will be deleted"
      ],
      "metadata": {
        "id": "5ez96YwLyWsU"
      },
      "execution_count": null,
      "outputs": []
    },
    {
      "cell_type": "code",
      "source": [
        "# Creating a copy - useful if we are doing more changes to the DataFrame and don't want to overwrite the df\n",
        "a = b.copy()\n",
        "a"
      ],
      "metadata": {
        "id": "GGX8ibUp2Y4S"
      },
      "execution_count": null,
      "outputs": []
    },
    {
      "cell_type": "markdown",
      "source": [
        "## Columns editing\n",
        "First step to speedy working with a DataFrame is getting to know the columns. If they have long names or spaces within them, or are not descriptive/mnemonic, we might want to change them. For this example we will change the names to something silly, just as an example.\n",
        "\n",
        "We might also want to create columns with aggregated data or drop the ones that are not important or needed.\n",
        "\n",
        "**! IMPORTANT ! **\n",
        "With these changes it's better to work on a copy if we don't want to change the DataFrame."
      ],
      "metadata": {
        "id": "P3ZOTFejzBRX"
      }
    },
    {
      "cell_type": "code",
      "source": [
        "sdf = sales_df.copy()\n",
        "sdf.columns = ['A', 'B', 'C', 'D', 'E', 'F']\n",
        "sdf"
      ],
      "metadata": {
        "id": "GBoNp9-U16o-"
      },
      "execution_count": null,
      "outputs": []
    },
    {
      "cell_type": "code",
      "source": [
        "# If we just want to rename one of the columns\n",
        "sdf = sdf.rename(columns={'E' : 'Column5'})\n",
        "sdf"
      ],
      "metadata": {
        "id": "3KIEuv-_3La0"
      },
      "execution_count": null,
      "outputs": []
    },
    {
      "cell_type": "markdown",
      "source": [
        "Creating a new column"
      ],
      "metadata": {
        "id": "rKOWj7Rx5kHg"
      }
    },
    {
      "cell_type": "code",
      "source": [
        "# this is the easiest way, so we call upon the non-existing column and assign it a value, similar to dictionaries\n",
        "sdf['G'] = 1\n",
        "sdf"
      ],
      "metadata": {
        "id": "h4N8swCt58Hf"
      },
      "execution_count": null,
      "outputs": []
    },
    {
      "cell_type": "code",
      "source": [],
      "metadata": {
        "id": "3kul1zK46PfZ"
      },
      "execution_count": null,
      "outputs": []
    }
  ]
}